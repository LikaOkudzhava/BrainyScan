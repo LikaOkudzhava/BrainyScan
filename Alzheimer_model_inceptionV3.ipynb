{
  "cells": [
    {
      "cell_type": "markdown",
      "metadata": {
        "id": "view-in-github",
        "colab_type": "text"
      },
      "source": [
        "<a href=\"https://colab.research.google.com/github/LikaOkudzhava/BrainyScan/blob/InceptionV3/Alzheimer_model_inceptionV3.ipynb\" target=\"_parent\"><img src=\"https://colab.research.google.com/assets/colab-badge.svg\" alt=\"Open In Colab\"/></a>"
      ]
    },
    {
      "cell_type": "code",
      "execution_count": null,
      "metadata": {
        "colab": {
          "base_uri": "https://localhost:8080/"
        },
        "id": "saHrK7K9Q-Bt",
        "outputId": "a40a3def-836c-4ca2-891f-4ce60822a5ab"
      },
      "outputs": [
        {
          "output_type": "stream",
          "name": "stdout",
          "text": [
            "Mounted at /content/drive\n"
          ]
        }
      ],
      "source": [
        "from google.colab import drive\n",
        "drive.mount('/content/drive')"
      ]
    },
    {
      "cell_type": "code",
      "source": [
        "!pip install /content/drive/MyDrive/AI/brainy-1.1.tar.gz"
      ],
      "metadata": {
        "colab": {
          "base_uri": "https://localhost:8080/"
        },
        "id": "Uz5KrsYWUG2Z",
        "outputId": "3d2f461f-6cf9-46bc-d391-b0a5a1a57b47"
      },
      "execution_count": null,
      "outputs": [
        {
          "output_type": "stream",
          "name": "stdout",
          "text": [
            "Processing ./drive/MyDrive/AI/brainy-1.1.tar.gz\n",
            "  Preparing metadata (setup.py) ... \u001b[?25l\u001b[?25hdone\n",
            "Requirement already satisfied: tensorflow in /usr/local/lib/python3.11/dist-packages (from brainy==1.1) (2.18.0)\n",
            "Requirement already satisfied: keras in /usr/local/lib/python3.11/dist-packages (from brainy==1.1) (3.8.0)\n",
            "Requirement already satisfied: numpy in /usr/local/lib/python3.11/dist-packages (from brainy==1.1) (2.0.2)\n",
            "Requirement already satisfied: opencv-python in /usr/local/lib/python3.11/dist-packages (from brainy==1.1) (4.11.0.86)\n",
            "Requirement already satisfied: tqdm in /usr/local/lib/python3.11/dist-packages (from brainy==1.1) (4.67.1)\n",
            "Requirement already satisfied: scikit-learn in /usr/local/lib/python3.11/dist-packages (from brainy==1.1) (1.6.1)\n",
            "Requirement already satisfied: seaborn in /usr/local/lib/python3.11/dist-packages (from brainy==1.1) (0.13.2)\n",
            "Requirement already satisfied: absl-py in /usr/local/lib/python3.11/dist-packages (from keras->brainy==1.1) (1.4.0)\n",
            "Requirement already satisfied: rich in /usr/local/lib/python3.11/dist-packages (from keras->brainy==1.1) (13.9.4)\n",
            "Requirement already satisfied: namex in /usr/local/lib/python3.11/dist-packages (from keras->brainy==1.1) (0.1.0)\n",
            "Requirement already satisfied: h5py in /usr/local/lib/python3.11/dist-packages (from keras->brainy==1.1) (3.13.0)\n",
            "Requirement already satisfied: optree in /usr/local/lib/python3.11/dist-packages (from keras->brainy==1.1) (0.16.0)\n",
            "Requirement already satisfied: ml-dtypes in /usr/local/lib/python3.11/dist-packages (from keras->brainy==1.1) (0.4.1)\n",
            "Requirement already satisfied: packaging in /usr/local/lib/python3.11/dist-packages (from keras->brainy==1.1) (24.2)\n",
            "Requirement already satisfied: scipy>=1.6.0 in /usr/local/lib/python3.11/dist-packages (from scikit-learn->brainy==1.1) (1.15.3)\n",
            "Requirement already satisfied: joblib>=1.2.0 in /usr/local/lib/python3.11/dist-packages (from scikit-learn->brainy==1.1) (1.5.1)\n",
            "Requirement already satisfied: threadpoolctl>=3.1.0 in /usr/local/lib/python3.11/dist-packages (from scikit-learn->brainy==1.1) (3.6.0)\n",
            "Requirement already satisfied: pandas>=1.2 in /usr/local/lib/python3.11/dist-packages (from seaborn->brainy==1.1) (2.2.2)\n",
            "Requirement already satisfied: matplotlib!=3.6.1,>=3.4 in /usr/local/lib/python3.11/dist-packages (from seaborn->brainy==1.1) (3.10.0)\n",
            "Requirement already satisfied: astunparse>=1.6.0 in /usr/local/lib/python3.11/dist-packages (from tensorflow->brainy==1.1) (1.6.3)\n",
            "Requirement already satisfied: flatbuffers>=24.3.25 in /usr/local/lib/python3.11/dist-packages (from tensorflow->brainy==1.1) (25.2.10)\n",
            "Requirement already satisfied: gast!=0.5.0,!=0.5.1,!=0.5.2,>=0.2.1 in /usr/local/lib/python3.11/dist-packages (from tensorflow->brainy==1.1) (0.6.0)\n",
            "Requirement already satisfied: google-pasta>=0.1.1 in /usr/local/lib/python3.11/dist-packages (from tensorflow->brainy==1.1) (0.2.0)\n",
            "Requirement already satisfied: libclang>=13.0.0 in /usr/local/lib/python3.11/dist-packages (from tensorflow->brainy==1.1) (18.1.1)\n",
            "Requirement already satisfied: opt-einsum>=2.3.2 in /usr/local/lib/python3.11/dist-packages (from tensorflow->brainy==1.1) (3.4.0)\n",
            "Requirement already satisfied: protobuf!=4.21.0,!=4.21.1,!=4.21.2,!=4.21.3,!=4.21.4,!=4.21.5,<6.0.0dev,>=3.20.3 in /usr/local/lib/python3.11/dist-packages (from tensorflow->brainy==1.1) (5.29.5)\n",
            "Requirement already satisfied: requests<3,>=2.21.0 in /usr/local/lib/python3.11/dist-packages (from tensorflow->brainy==1.1) (2.32.3)\n",
            "Requirement already satisfied: setuptools in /usr/local/lib/python3.11/dist-packages (from tensorflow->brainy==1.1) (75.2.0)\n",
            "Requirement already satisfied: six>=1.12.0 in /usr/local/lib/python3.11/dist-packages (from tensorflow->brainy==1.1) (1.17.0)\n",
            "Requirement already satisfied: termcolor>=1.1.0 in /usr/local/lib/python3.11/dist-packages (from tensorflow->brainy==1.1) (3.1.0)\n",
            "Requirement already satisfied: typing-extensions>=3.6.6 in /usr/local/lib/python3.11/dist-packages (from tensorflow->brainy==1.1) (4.13.2)\n",
            "Requirement already satisfied: wrapt>=1.11.0 in /usr/local/lib/python3.11/dist-packages (from tensorflow->brainy==1.1) (1.17.2)\n",
            "Requirement already satisfied: grpcio<2.0,>=1.24.3 in /usr/local/lib/python3.11/dist-packages (from tensorflow->brainy==1.1) (1.71.0)\n",
            "Requirement already satisfied: tensorboard<2.19,>=2.18 in /usr/local/lib/python3.11/dist-packages (from tensorflow->brainy==1.1) (2.18.0)\n",
            "Requirement already satisfied: tensorflow-io-gcs-filesystem>=0.23.1 in /usr/local/lib/python3.11/dist-packages (from tensorflow->brainy==1.1) (0.37.1)\n",
            "Requirement already satisfied: wheel<1.0,>=0.23.0 in /usr/local/lib/python3.11/dist-packages (from astunparse>=1.6.0->tensorflow->brainy==1.1) (0.45.1)\n",
            "Requirement already satisfied: contourpy>=1.0.1 in /usr/local/lib/python3.11/dist-packages (from matplotlib!=3.6.1,>=3.4->seaborn->brainy==1.1) (1.3.2)\n",
            "Requirement already satisfied: cycler>=0.10 in /usr/local/lib/python3.11/dist-packages (from matplotlib!=3.6.1,>=3.4->seaborn->brainy==1.1) (0.12.1)\n",
            "Requirement already satisfied: fonttools>=4.22.0 in /usr/local/lib/python3.11/dist-packages (from matplotlib!=3.6.1,>=3.4->seaborn->brainy==1.1) (4.58.1)\n",
            "Requirement already satisfied: kiwisolver>=1.3.1 in /usr/local/lib/python3.11/dist-packages (from matplotlib!=3.6.1,>=3.4->seaborn->brainy==1.1) (1.4.8)\n",
            "Requirement already satisfied: pillow>=8 in /usr/local/lib/python3.11/dist-packages (from matplotlib!=3.6.1,>=3.4->seaborn->brainy==1.1) (11.2.1)\n",
            "Requirement already satisfied: pyparsing>=2.3.1 in /usr/local/lib/python3.11/dist-packages (from matplotlib!=3.6.1,>=3.4->seaborn->brainy==1.1) (3.2.3)\n",
            "Requirement already satisfied: python-dateutil>=2.7 in /usr/local/lib/python3.11/dist-packages (from matplotlib!=3.6.1,>=3.4->seaborn->brainy==1.1) (2.9.0.post0)\n",
            "Requirement already satisfied: pytz>=2020.1 in /usr/local/lib/python3.11/dist-packages (from pandas>=1.2->seaborn->brainy==1.1) (2025.2)\n",
            "Requirement already satisfied: tzdata>=2022.7 in /usr/local/lib/python3.11/dist-packages (from pandas>=1.2->seaborn->brainy==1.1) (2025.2)\n",
            "Requirement already satisfied: charset-normalizer<4,>=2 in /usr/local/lib/python3.11/dist-packages (from requests<3,>=2.21.0->tensorflow->brainy==1.1) (3.4.2)\n",
            "Requirement already satisfied: idna<4,>=2.5 in /usr/local/lib/python3.11/dist-packages (from requests<3,>=2.21.0->tensorflow->brainy==1.1) (3.10)\n",
            "Requirement already satisfied: urllib3<3,>=1.21.1 in /usr/local/lib/python3.11/dist-packages (from requests<3,>=2.21.0->tensorflow->brainy==1.1) (2.4.0)\n",
            "Requirement already satisfied: certifi>=2017.4.17 in /usr/local/lib/python3.11/dist-packages (from requests<3,>=2.21.0->tensorflow->brainy==1.1) (2025.4.26)\n",
            "Requirement already satisfied: markdown>=2.6.8 in /usr/local/lib/python3.11/dist-packages (from tensorboard<2.19,>=2.18->tensorflow->brainy==1.1) (3.8)\n",
            "Requirement already satisfied: tensorboard-data-server<0.8.0,>=0.7.0 in /usr/local/lib/python3.11/dist-packages (from tensorboard<2.19,>=2.18->tensorflow->brainy==1.1) (0.7.2)\n",
            "Requirement already satisfied: werkzeug>=1.0.1 in /usr/local/lib/python3.11/dist-packages (from tensorboard<2.19,>=2.18->tensorflow->brainy==1.1) (3.1.3)\n",
            "Requirement already satisfied: markdown-it-py>=2.2.0 in /usr/local/lib/python3.11/dist-packages (from rich->keras->brainy==1.1) (3.0.0)\n",
            "Requirement already satisfied: pygments<3.0.0,>=2.13.0 in /usr/local/lib/python3.11/dist-packages (from rich->keras->brainy==1.1) (2.19.1)\n",
            "Requirement already satisfied: mdurl~=0.1 in /usr/local/lib/python3.11/dist-packages (from markdown-it-py>=2.2.0->rich->keras->brainy==1.1) (0.1.2)\n",
            "Requirement already satisfied: MarkupSafe>=2.1.1 in /usr/local/lib/python3.11/dist-packages (from werkzeug>=1.0.1->tensorboard<2.19,>=2.18->tensorflow->brainy==1.1) (3.0.2)\n",
            "Building wheels for collected packages: brainy\n",
            "  Building wheel for brainy (setup.py) ... \u001b[?25l\u001b[?25hdone\n",
            "  Created wheel for brainy: filename=brainy-1.1-py3-none-any.whl size=6438 sha256=755ae00874f7ae61df531e97b2e89c41311062902340eb812ec63c4c0bd322cd\n",
            "  Stored in directory: /root/.cache/pip/wheels/3a/ba/37/b1c9047aa750b321450fdfb32c5c538366dba41aeab755aba3\n",
            "Successfully built brainy\n",
            "Installing collected packages: brainy\n",
            "Successfully installed brainy-1.1\n"
          ]
        }
      ]
    },
    {
      "cell_type": "code",
      "execution_count": null,
      "metadata": {
        "id": "oRfYA4mlQzww"
      },
      "outputs": [],
      "source": [
        "import os\n",
        "import cv2\n",
        "\n",
        "import seaborn as sns\n",
        "import matplotlib.pyplot as plt\n",
        "\n",
        "import numpy as np\n",
        "import pandas as pd\n",
        "\n",
        "from tqdm import tqdm\n",
        "\n",
        "import keras\n",
        "from keras.callbacks import EarlyStopping,ModelCheckpoint\n",
        "\n",
        "import tensorflow as tf\n",
        "from tensorflow.keras.preprocessing.image import ImageDataGenerator\n",
        "\n",
        "from sklearn.metrics import confusion_matrix\n",
        "from sklearn.metrics import classification_report\n",
        "\n",
        "import pandas as pd\n",
        "import matplotlib.pyplot as plt\n",
        "import seaborn as sns\n",
        "from sklearn.model_selection import train_test_split\n",
        "from sklearn.preprocessing import LabelEncoder\n",
        "from imblearn.over_sampling import SMOTE"
      ]
    },
    {
      "cell_type": "code",
      "source": [
        "import os\n",
        "\n",
        "import zipfile\n",
        "\n",
        "from google.colab import drive\n",
        "\n",
        "gdrive = '/content/drive'\n",
        "\n",
        "gdisk = os.path.join(gdrive, 'MyDrive')\n",
        "\n",
        "filename = 'smallpreprocessed'\n",
        "\n",
        "archive_path = os.path.join(gdisk, filename)\n",
        "\n",
        "with zipfile.ZipFile('/content/drive/MyDrive/AI/smallpreprocessed.zip', 'r') as zip_ref:\n",
        "\n",
        " zip_ref.extractall(f'{filename}')"
      ],
      "metadata": {
        "id": "-F78eDO-5AN3"
      },
      "execution_count": null,
      "outputs": []
    },
    {
      "cell_type": "code",
      "execution_count": null,
      "metadata": {
        "id": "uB1a8LF8RUgi"
      },
      "outputs": [],
      "source": [
        "import os\n",
        "\n",
        "import zipfile\n",
        "\n",
        "from google.colab import drive\n",
        "\n",
        "gdrive = '/content/drive'\n",
        "\n",
        "gdisk = os.path.join(gdrive, 'MyDrive')\n",
        "\n",
        "filename = 'smallpreprocessed'\n",
        "\n",
        "archive_path = os.path.join(gdisk, filename)\n",
        "\n",
        "with zipfile.ZipFile('/content/drive/MyDrive/AI/smallpreprocessed.zip', 'r') as zip_ref:\n",
        "\n",
        " zip_ref.extractall(f'{filename}')"
      ]
    },
    {
      "cell_type": "code",
      "execution_count": null,
      "metadata": {
        "colab": {
          "base_uri": "https://localhost:8080/"
        },
        "id": "OaVcj5usQzw8",
        "outputId": "02829ab0-a747-4846-d045-6da83c80f56a"
      },
      "outputs": [
        {
          "output_type": "stream",
          "name": "stdout",
          "text": [
            "Found 12000 files belonging to 4 classes.\n",
            "Found 2000 files belonging to 4 classes.\n",
            "Found 2000 files belonging to 4 classes.\n"
          ]
        }
      ],
      "source": [
        "dataset_dir = '/content/smallpreprocessed/data/SmallPreprocessed'\n",
        "image_height = 299\n",
        "image_width = 299\n",
        "batch_size = 16\n",
        "\n",
        "\n",
        "train_ds = tf.keras.utils.image_dataset_from_directory(\n",
        "    os.path.join(dataset_dir, 'train'),\n",
        "    labels = 'inferred',\n",
        "    label_mode = 'categorical',\n",
        "    image_size = (image_height, image_width),\n",
        "    batch_size = batch_size,\n",
        "    shuffle = True\n",
        ")\n",
        "\n",
        "test_ds = tf.keras.utils.image_dataset_from_directory(\n",
        "    os.path.join(dataset_dir, 'test'),\n",
        "    labels = 'inferred',\n",
        "    label_mode = 'categorical',\n",
        "    image_size = (image_height, image_width),\n",
        "    batch_size = batch_size,\n",
        "    shuffle = False\n",
        ")\n",
        "\n",
        "val_ds = tf.keras.utils.image_dataset_from_directory(\n",
        "    os.path.join(dataset_dir, 'val'),\n",
        "    labels = 'inferred',\n",
        "    label_mode = 'categorical',\n",
        "    image_size = (image_height, image_width),\n",
        "    batch_size = batch_size,\n",
        "    shuffle = True\n",
        ")\n",
        "\n",
        "for ds in [train_ds, test_ds, val_ds]:\n",
        "    ds.cache()\n",
        "    ds.prefetch(buffer_size=tf.data.AUTOTUNE)"
      ]
    },
    {
      "cell_type": "code",
      "execution_count": null,
      "metadata": {
        "id": "SOACOTC2z_2g"
      },
      "outputs": [],
      "source": [
        "from tensorflow import keras\n",
        "\n",
        "# Load InceptionV3 with all layers frozen\n",
        "model = keras.applications.InceptionV3(\n",
        "    include_top=False,\n",
        "    weights=\"imagenet\",\n",
        "    input_shape=(299, 299, 3)\n",
        ")\n",
        "\n",
        "# Freeze all layers\n",
        "for layer in model.layers:\n",
        "    layer.trainable = False"
      ]
    },
    {
      "cell_type": "code",
      "execution_count": null,
      "metadata": {
        "colab": {
          "base_uri": "https://localhost:8080/",
          "height": 433
        },
        "id": "7-E44jt4QzxA",
        "outputId": "ec77de6c-90d9-446f-dd12-85ca8f7548f4"
      },
      "outputs": [
        {
          "output_type": "display_data",
          "data": {
            "text/plain": [
              "\u001b[1mModel: \"functional_1\"\u001b[0m\n"
            ],
            "text/html": [
              "<pre style=\"white-space:pre;overflow-x:auto;line-height:normal;font-family:Menlo,'DejaVu Sans Mono',consolas,'Courier New',monospace\"><span style=\"font-weight: bold\">Model: \"functional_1\"</span>\n",
              "</pre>\n"
            ]
          },
          "metadata": {}
        },
        {
          "output_type": "display_data",
          "data": {
            "text/plain": [
              "┏━━━━━━━━━━━━━━━━━━━━━━━━━━━━━━━━━┳━━━━━━━━━━━━━━━━━━━━━━━━┳━━━━━━━━━━━━━━━┓\n",
              "┃\u001b[1m \u001b[0m\u001b[1mLayer (type)                   \u001b[0m\u001b[1m \u001b[0m┃\u001b[1m \u001b[0m\u001b[1mOutput Shape          \u001b[0m\u001b[1m \u001b[0m┃\u001b[1m \u001b[0m\u001b[1m      Param #\u001b[0m\u001b[1m \u001b[0m┃\n",
              "┡━━━━━━━━━━━━━━━━━━━━━━━━━━━━━━━━━╇━━━━━━━━━━━━━━━━━━━━━━━━╇━━━━━━━━━━━━━━━┩\n",
              "│ input_layer_4 (\u001b[38;5;33mInputLayer\u001b[0m)      │ (\u001b[38;5;45mNone\u001b[0m, \u001b[38;5;34m299\u001b[0m, \u001b[38;5;34m299\u001b[0m, \u001b[38;5;34m3\u001b[0m)    │             \u001b[38;5;34m0\u001b[0m │\n",
              "├─────────────────────────────────┼────────────────────────┼───────────────┤\n",
              "│ inception_v3 (\u001b[38;5;33mFunctional\u001b[0m)       │ (\u001b[38;5;45mNone\u001b[0m, \u001b[38;5;34m2048\u001b[0m)           │    \u001b[38;5;34m21,802,784\u001b[0m │\n",
              "├─────────────────────────────────┼────────────────────────┼───────────────┤\n",
              "│ batch_normalization_379         │ (\u001b[38;5;45mNone\u001b[0m, \u001b[38;5;34m2048\u001b[0m)           │         \u001b[38;5;34m8,192\u001b[0m │\n",
              "│ (\u001b[38;5;33mBatchNormalization\u001b[0m)            │                        │               │\n",
              "├─────────────────────────────────┼────────────────────────┼───────────────┤\n",
              "│ dense_3 (\u001b[38;5;33mDense\u001b[0m)                 │ (\u001b[38;5;45mNone\u001b[0m, \u001b[38;5;34m2048\u001b[0m)           │     \u001b[38;5;34m4,196,352\u001b[0m │\n",
              "├─────────────────────────────────┼────────────────────────┼───────────────┤\n",
              "│ batch_normalization_380         │ (\u001b[38;5;45mNone\u001b[0m, \u001b[38;5;34m2048\u001b[0m)           │         \u001b[38;5;34m8,192\u001b[0m │\n",
              "│ (\u001b[38;5;33mBatchNormalization\u001b[0m)            │                        │               │\n",
              "├─────────────────────────────────┼────────────────────────┼───────────────┤\n",
              "│ dense_4 (\u001b[38;5;33mDense\u001b[0m)                 │ (\u001b[38;5;45mNone\u001b[0m, \u001b[38;5;34m1024\u001b[0m)           │     \u001b[38;5;34m2,098,176\u001b[0m │\n",
              "├─────────────────────────────────┼────────────────────────┼───────────────┤\n",
              "│ batch_normalization_381         │ (\u001b[38;5;45mNone\u001b[0m, \u001b[38;5;34m1024\u001b[0m)           │         \u001b[38;5;34m4,096\u001b[0m │\n",
              "│ (\u001b[38;5;33mBatchNormalization\u001b[0m)            │                        │               │\n",
              "├─────────────────────────────────┼────────────────────────┼───────────────┤\n",
              "│ dense_5 (\u001b[38;5;33mDense\u001b[0m)                 │ (\u001b[38;5;45mNone\u001b[0m, \u001b[38;5;34m4\u001b[0m)              │         \u001b[38;5;34m4,100\u001b[0m │\n",
              "└─────────────────────────────────┴────────────────────────┴───────────────┘\n"
            ],
            "text/html": [
              "<pre style=\"white-space:pre;overflow-x:auto;line-height:normal;font-family:Menlo,'DejaVu Sans Mono',consolas,'Courier New',monospace\">┏━━━━━━━━━━━━━━━━━━━━━━━━━━━━━━━━━┳━━━━━━━━━━━━━━━━━━━━━━━━┳━━━━━━━━━━━━━━━┓\n",
              "┃<span style=\"font-weight: bold\"> Layer (type)                    </span>┃<span style=\"font-weight: bold\"> Output Shape           </span>┃<span style=\"font-weight: bold\">       Param # </span>┃\n",
              "┡━━━━━━━━━━━━━━━━━━━━━━━━━━━━━━━━━╇━━━━━━━━━━━━━━━━━━━━━━━━╇━━━━━━━━━━━━━━━┩\n",
              "│ input_layer_4 (<span style=\"color: #0087ff; text-decoration-color: #0087ff\">InputLayer</span>)      │ (<span style=\"color: #00d7ff; text-decoration-color: #00d7ff\">None</span>, <span style=\"color: #00af00; text-decoration-color: #00af00\">299</span>, <span style=\"color: #00af00; text-decoration-color: #00af00\">299</span>, <span style=\"color: #00af00; text-decoration-color: #00af00\">3</span>)    │             <span style=\"color: #00af00; text-decoration-color: #00af00\">0</span> │\n",
              "├─────────────────────────────────┼────────────────────────┼───────────────┤\n",
              "│ inception_v3 (<span style=\"color: #0087ff; text-decoration-color: #0087ff\">Functional</span>)       │ (<span style=\"color: #00d7ff; text-decoration-color: #00d7ff\">None</span>, <span style=\"color: #00af00; text-decoration-color: #00af00\">2048</span>)           │    <span style=\"color: #00af00; text-decoration-color: #00af00\">21,802,784</span> │\n",
              "├─────────────────────────────────┼────────────────────────┼───────────────┤\n",
              "│ batch_normalization_379         │ (<span style=\"color: #00d7ff; text-decoration-color: #00d7ff\">None</span>, <span style=\"color: #00af00; text-decoration-color: #00af00\">2048</span>)           │         <span style=\"color: #00af00; text-decoration-color: #00af00\">8,192</span> │\n",
              "│ (<span style=\"color: #0087ff; text-decoration-color: #0087ff\">BatchNormalization</span>)            │                        │               │\n",
              "├─────────────────────────────────┼────────────────────────┼───────────────┤\n",
              "│ dense_3 (<span style=\"color: #0087ff; text-decoration-color: #0087ff\">Dense</span>)                 │ (<span style=\"color: #00d7ff; text-decoration-color: #00d7ff\">None</span>, <span style=\"color: #00af00; text-decoration-color: #00af00\">2048</span>)           │     <span style=\"color: #00af00; text-decoration-color: #00af00\">4,196,352</span> │\n",
              "├─────────────────────────────────┼────────────────────────┼───────────────┤\n",
              "│ batch_normalization_380         │ (<span style=\"color: #00d7ff; text-decoration-color: #00d7ff\">None</span>, <span style=\"color: #00af00; text-decoration-color: #00af00\">2048</span>)           │         <span style=\"color: #00af00; text-decoration-color: #00af00\">8,192</span> │\n",
              "│ (<span style=\"color: #0087ff; text-decoration-color: #0087ff\">BatchNormalization</span>)            │                        │               │\n",
              "├─────────────────────────────────┼────────────────────────┼───────────────┤\n",
              "│ dense_4 (<span style=\"color: #0087ff; text-decoration-color: #0087ff\">Dense</span>)                 │ (<span style=\"color: #00d7ff; text-decoration-color: #00d7ff\">None</span>, <span style=\"color: #00af00; text-decoration-color: #00af00\">1024</span>)           │     <span style=\"color: #00af00; text-decoration-color: #00af00\">2,098,176</span> │\n",
              "├─────────────────────────────────┼────────────────────────┼───────────────┤\n",
              "│ batch_normalization_381         │ (<span style=\"color: #00d7ff; text-decoration-color: #00d7ff\">None</span>, <span style=\"color: #00af00; text-decoration-color: #00af00\">1024</span>)           │         <span style=\"color: #00af00; text-decoration-color: #00af00\">4,096</span> │\n",
              "│ (<span style=\"color: #0087ff; text-decoration-color: #0087ff\">BatchNormalization</span>)            │                        │               │\n",
              "├─────────────────────────────────┼────────────────────────┼───────────────┤\n",
              "│ dense_5 (<span style=\"color: #0087ff; text-decoration-color: #0087ff\">Dense</span>)                 │ (<span style=\"color: #00d7ff; text-decoration-color: #00d7ff\">None</span>, <span style=\"color: #00af00; text-decoration-color: #00af00\">4</span>)              │         <span style=\"color: #00af00; text-decoration-color: #00af00\">4,100</span> │\n",
              "└─────────────────────────────────┴────────────────────────┴───────────────┘\n",
              "</pre>\n"
            ]
          },
          "metadata": {}
        },
        {
          "output_type": "display_data",
          "data": {
            "text/plain": [
              "\u001b[1m Total params: \u001b[0m\u001b[38;5;34m28,121,892\u001b[0m (107.28 MB)\n"
            ],
            "text/html": [
              "<pre style=\"white-space:pre;overflow-x:auto;line-height:normal;font-family:Menlo,'DejaVu Sans Mono',consolas,'Courier New',monospace\"><span style=\"font-weight: bold\"> Total params: </span><span style=\"color: #00af00; text-decoration-color: #00af00\">28,121,892</span> (107.28 MB)\n",
              "</pre>\n"
            ]
          },
          "metadata": {}
        },
        {
          "output_type": "display_data",
          "data": {
            "text/plain": [
              "\u001b[1m Trainable params: \u001b[0m\u001b[38;5;34m6,308,868\u001b[0m (24.07 MB)\n"
            ],
            "text/html": [
              "<pre style=\"white-space:pre;overflow-x:auto;line-height:normal;font-family:Menlo,'DejaVu Sans Mono',consolas,'Courier New',monospace\"><span style=\"font-weight: bold\"> Trainable params: </span><span style=\"color: #00af00; text-decoration-color: #00af00\">6,308,868</span> (24.07 MB)\n",
              "</pre>\n"
            ]
          },
          "metadata": {}
        },
        {
          "output_type": "display_data",
          "data": {
            "text/plain": [
              "\u001b[1m Non-trainable params: \u001b[0m\u001b[38;5;34m21,813,024\u001b[0m (83.21 MB)\n"
            ],
            "text/html": [
              "<pre style=\"white-space:pre;overflow-x:auto;line-height:normal;font-family:Menlo,'DejaVu Sans Mono',consolas,'Courier New',monospace\"><span style=\"font-weight: bold\"> Non-trainable params: </span><span style=\"color: #00af00; text-decoration-color: #00af00\">21,813,024</span> (83.21 MB)\n",
              "</pre>\n"
            ]
          },
          "metadata": {}
        }
      ],
      "source": [
        "from tensorflow import keras\n",
        "import tensorflow as tf\n",
        "\n",
        "# Image dimensions\n",
        "image_height = 299\n",
        "image_width = 299\n",
        "input_shape = (image_height, image_width, 3)\n",
        "\n",
        "# Input layer\n",
        "inputs = keras.Input(shape=input_shape)\n",
        "\n",
        "# Skip augmentation — direct input\n",
        "x = inputs\n",
        "\n",
        "# Load InceptionV3 base model with pretrained weights\n",
        "base_model = tf.keras.applications.InceptionV3(\n",
        "    include_top=False,\n",
        "    weights='imagenet',\n",
        "    input_shape=input_shape,\n",
        "    pooling='avg'  # Outputs a global average pooled vector\n",
        ")\n",
        "base_model.trainable = False  # Freeze pretrained weights\n",
        "\n",
        "# Pass input through base model\n",
        "x = base_model(x)\n",
        "\n",
        "# Custom classification head\n",
        "x = keras.layers.BatchNormalization()(x)\n",
        "x = keras.layers.Dense(2048, activation='relu')(x)\n",
        "x = keras.layers.BatchNormalization()(x)\n",
        "x = keras.layers.Dense(1024, activation='relu')(x)\n",
        "x = keras.layers.BatchNormalization()(x)\n",
        "outputs = keras.layers.Dense(4, activation='softmax')(x)  # 4 classes\n",
        "\n",
        "# Combine into a full model\n",
        "model = keras.Model(inputs=inputs, outputs=outputs)\n",
        "\n",
        "# Show model summary\n",
        "model.summary()\n"
      ]
    },
    {
      "cell_type": "code",
      "execution_count": null,
      "metadata": {
        "id": "9f0I-9prZGTu"
      },
      "outputs": [],
      "source": [
        "for layer in model.layers[-50:]:\n",
        "    layer.trainable = True"
      ]
    },
    {
      "cell_type": "code",
      "execution_count": null,
      "metadata": {
        "id": "cd-UDOZcQzxD"
      },
      "outputs": [],
      "source": [
        "from tensorflow.keras.callbacks import ModelCheckpoint, EarlyStopping\n",
        "\n",
        "# Model Checkpoint - save only the best model\n",
        "checkpoint_cb = ModelCheckpoint(\n",
        "    \"model_InceptionV3.keras\",  # Updated filename\n",
        "    save_best_only=True\n",
        ")\n",
        "\n",
        "# Early Stopping - stop if no improvement for 10 epochs\n",
        "early_stopping_cb = EarlyStopping(\n",
        "    patience=10,\n",
        "    restore_best_weights=True\n",
        ")\n",
        "\n",
        "# Compile the model\n",
        "model.compile(\n",
        "    optimizer=tf.keras.optimizers.Adam(1e-4),\n",
        "    loss='categorical_crossentropy',\n",
        "    metrics=['accuracy']\n",
        ")\n"
      ]
    },
    {
      "cell_type": "code",
      "execution_count": null,
      "metadata": {
        "id": "gWSAdkheQzxE"
      },
      "outputs": [],
      "source": [
        "EPOCHS = 25"
      ]
    },
    {
      "cell_type": "code",
      "execution_count": null,
      "metadata": {
        "colab": {
          "base_uri": "https://localhost:8080/"
        },
        "id": "0B5UpPXlQzxF",
        "outputId": "26c2b266-ebde-4b64-b2cd-5111c254ce20"
      },
      "outputs": [
        {
          "output_type": "stream",
          "name": "stdout",
          "text": [
            "Epoch 1/25\n",
            "\u001b[1m750/750\u001b[0m \u001b[32m━━━━━━━━━━━━━━━━━━━━\u001b[0m\u001b[37m\u001b[0m \u001b[1m271s\u001b[0m 247ms/step - accuracy: 0.5479 - loss: 1.2840 - val_accuracy: 0.6995 - val_loss: 0.9125\n",
            "Epoch 2/25\n",
            "\u001b[1m750/750\u001b[0m \u001b[32m━━━━━━━━━━━━━━━━━━━━\u001b[0m\u001b[37m\u001b[0m \u001b[1m190s\u001b[0m 253ms/step - accuracy: 0.7972 - loss: 0.5175 - val_accuracy: 0.8715 - val_loss: 0.3494\n",
            "Epoch 3/25\n",
            "\u001b[1m750/750\u001b[0m \u001b[32m━━━━━━━━━━━━━━━━━━━━\u001b[0m\u001b[37m\u001b[0m \u001b[1m188s\u001b[0m 250ms/step - accuracy: 0.9094 - loss: 0.2491 - val_accuracy: 0.9275 - val_loss: 0.1934\n",
            "Epoch 4/25\n",
            "\u001b[1m750/750\u001b[0m \u001b[32m━━━━━━━━━━━━━━━━━━━━\u001b[0m\u001b[37m\u001b[0m \u001b[1m199s\u001b[0m 246ms/step - accuracy: 0.9388 - loss: 0.1698 - val_accuracy: 0.9075 - val_loss: 0.3076\n",
            "Epoch 5/25\n",
            "\u001b[1m750/750\u001b[0m \u001b[32m━━━━━━━━━━━━━━━━━━━━\u001b[0m\u001b[37m\u001b[0m \u001b[1m185s\u001b[0m 246ms/step - accuracy: 0.9548 - loss: 0.1282 - val_accuracy: 0.8645 - val_loss: 0.3903\n",
            "Epoch 6/25\n",
            "\u001b[1m750/750\u001b[0m \u001b[32m━━━━━━━━━━━━━━━━━━━━\u001b[0m\u001b[37m\u001b[0m \u001b[1m185s\u001b[0m 246ms/step - accuracy: 0.9656 - loss: 0.0974 - val_accuracy: 0.9490 - val_loss: 0.1329\n",
            "Epoch 7/25\n",
            "\u001b[1m750/750\u001b[0m \u001b[32m━━━━━━━━━━━━━━━━━━━━\u001b[0m\u001b[37m\u001b[0m \u001b[1m183s\u001b[0m 243ms/step - accuracy: 0.9746 - loss: 0.0700 - val_accuracy: 0.9405 - val_loss: 0.1527\n",
            "Epoch 8/25\n",
            "\u001b[1m750/750\u001b[0m \u001b[32m━━━━━━━━━━━━━━━━━━━━\u001b[0m\u001b[37m\u001b[0m \u001b[1m182s\u001b[0m 243ms/step - accuracy: 0.9745 - loss: 0.0844 - val_accuracy: 0.9320 - val_loss: 0.1853\n",
            "Epoch 9/25\n",
            "\u001b[1m750/750\u001b[0m \u001b[32m━━━━━━━━━━━━━━━━━━━━\u001b[0m\u001b[37m\u001b[0m \u001b[1m205s\u001b[0m 247ms/step - accuracy: 0.9759 - loss: 0.0615 - val_accuracy: 0.9420 - val_loss: 0.1605\n",
            "Epoch 10/25\n",
            "\u001b[1m750/750\u001b[0m \u001b[32m━━━━━━━━━━━━━━━━━━━━\u001b[0m\u001b[37m\u001b[0m \u001b[1m191s\u001b[0m 254ms/step - accuracy: 0.9805 - loss: 0.0591 - val_accuracy: 0.9675 - val_loss: 0.0933\n",
            "Epoch 11/25\n",
            "\u001b[1m750/750\u001b[0m \u001b[32m━━━━━━━━━━━━━━━━━━━━\u001b[0m\u001b[37m\u001b[0m \u001b[1m196s\u001b[0m 247ms/step - accuracy: 0.9869 - loss: 0.0354 - val_accuracy: 0.7970 - val_loss: 0.7125\n",
            "Epoch 12/25\n",
            "\u001b[1m750/750\u001b[0m \u001b[32m━━━━━━━━━━━━━━━━━━━━\u001b[0m\u001b[37m\u001b[0m \u001b[1m184s\u001b[0m 245ms/step - accuracy: 0.9808 - loss: 0.0588 - val_accuracy: 0.9215 - val_loss: 0.3506\n",
            "Epoch 13/25\n",
            "\u001b[1m750/750\u001b[0m \u001b[32m━━━━━━━━━━━━━━━━━━━━\u001b[0m\u001b[37m\u001b[0m \u001b[1m203s\u001b[0m 247ms/step - accuracy: 0.9829 - loss: 0.0463 - val_accuracy: 0.9470 - val_loss: 0.1512\n",
            "Epoch 14/25\n",
            "\u001b[1m750/750\u001b[0m \u001b[32m━━━━━━━━━━━━━━━━━━━━\u001b[0m\u001b[37m\u001b[0m \u001b[1m184s\u001b[0m 246ms/step - accuracy: 0.9868 - loss: 0.0381 - val_accuracy: 0.9725 - val_loss: 0.1030\n",
            "Epoch 15/25\n",
            "\u001b[1m750/750\u001b[0m \u001b[32m━━━━━━━━━━━━━━━━━━━━\u001b[0m\u001b[37m\u001b[0m \u001b[1m181s\u001b[0m 242ms/step - accuracy: 0.9894 - loss: 0.0359 - val_accuracy: 0.8835 - val_loss: 0.4465\n",
            "Epoch 16/25\n",
            "\u001b[1m750/750\u001b[0m \u001b[32m━━━━━━━━━━━━━━━━━━━━\u001b[0m\u001b[37m\u001b[0m \u001b[1m202s\u001b[0m 242ms/step - accuracy: 0.9733 - loss: 0.0772 - val_accuracy: 0.9630 - val_loss: 0.1121\n",
            "Epoch 17/25\n",
            "\u001b[1m750/750\u001b[0m \u001b[32m━━━━━━━━━━━━━━━━━━━━\u001b[0m\u001b[37m\u001b[0m \u001b[1m205s\u001b[0m 247ms/step - accuracy: 0.9931 - loss: 0.0238 - val_accuracy: 0.9605 - val_loss: 0.1247\n",
            "Epoch 18/25\n",
            "\u001b[1m750/750\u001b[0m \u001b[32m━━━━━━━━━━━━━━━━━━━━\u001b[0m\u001b[37m\u001b[0m \u001b[1m199s\u001b[0m 243ms/step - accuracy: 0.9896 - loss: 0.0293 - val_accuracy: 0.9120 - val_loss: 0.2565\n",
            "Epoch 19/25\n",
            "\u001b[1m750/750\u001b[0m \u001b[32m━━━━━━━━━━━━━━━━━━━━\u001b[0m\u001b[37m\u001b[0m \u001b[1m205s\u001b[0m 246ms/step - accuracy: 0.9952 - loss: 0.0139 - val_accuracy: 0.9390 - val_loss: 0.1638\n",
            "Epoch 20/25\n",
            "\u001b[1m750/750\u001b[0m \u001b[32m━━━━━━━━━━━━━━━━━━━━\u001b[0m\u001b[37m\u001b[0m \u001b[1m185s\u001b[0m 246ms/step - accuracy: 0.9917 - loss: 0.0241 - val_accuracy: 0.9520 - val_loss: 0.1732\n"
          ]
        }
      ],
      "source": [
        "# Now train with class weights\n",
        "history = model.fit(\n",
        "    train_ds,\n",
        "    epochs=EPOCHS,\n",
        "    validation_data=val_ds,\n",
        "    callbacks=[checkpoint_cb, early_stopping_cb],\n",
        "    # class_weight=class_weights\n",
        ")"
      ]
    },
    {
      "cell_type": "code",
      "source": [
        "for layer in model.layers[-10:]:\n",
        "    layer.trainable = True"
      ],
      "metadata": {
        "id": "SjMlCdSVfsbj"
      },
      "execution_count": null,
      "outputs": []
    },
    {
      "cell_type": "code",
      "source": [
        "# Now train with class weights\n",
        "history = model.fit(\n",
        "    train_ds,\n",
        "    epochs=EPOCHS,\n",
        "    validation_data=val_ds,\n",
        "    callbacks=[checkpoint_cb, early_stopping_cb],\n",
        "    # class_weight=class_weights\n",
        ")"
      ],
      "metadata": {
        "id": "AI3_wIvKf0iZ"
      },
      "execution_count": null,
      "outputs": []
    },
    {
      "cell_type": "code",
      "execution_count": null,
      "metadata": {
        "id": "yUh4ktTVQzxH",
        "colab": {
          "base_uri": "https://localhost:8080/"
        },
        "outputId": "36824f3a-1b9a-401d-cfd7-a01dbff1a7bb"
      },
      "outputs": [
        {
          "output_type": "stream",
          "name": "stdout",
          "text": [
            "Saved artifact at '/content/models/inceptionV3_model'. The following endpoints are available:\n",
            "\n",
            "* Endpoint 'serve'\n",
            "  args_0 (POSITIONAL_ONLY): TensorSpec(shape=(None, 299, 299, 3), dtype=tf.float32, name='keras_tensor_942')\n",
            "Output Type:\n",
            "  TensorSpec(shape=(None, 4), dtype=tf.float32, name=None)\n",
            "Captures:\n",
            "  132108190904208: TensorSpec(shape=(), dtype=tf.resource, name=None)\n",
            "  132108190902672: TensorSpec(shape=(), dtype=tf.resource, name=None)\n",
            "  132108190904592: TensorSpec(shape=(), dtype=tf.resource, name=None)\n",
            "  132108190904784: TensorSpec(shape=(), dtype=tf.resource, name=None)\n",
            "  132108190906128: TensorSpec(shape=(), dtype=tf.resource, name=None)\n",
            "  132108190904976: TensorSpec(shape=(), dtype=tf.resource, name=None)\n",
            "  132108190906512: TensorSpec(shape=(), dtype=tf.resource, name=None)\n",
            "  132108190906704: TensorSpec(shape=(), dtype=tf.resource, name=None)\n",
            "  132108190907664: TensorSpec(shape=(), dtype=tf.resource, name=None)\n",
            "  132108190906896: TensorSpec(shape=(), dtype=tf.resource, name=None)\n",
            "  132108190908240: TensorSpec(shape=(), dtype=tf.resource, name=None)\n",
            "  132108190908048: TensorSpec(shape=(), dtype=tf.resource, name=None)\n",
            "  132108190905168: TensorSpec(shape=(), dtype=tf.resource, name=None)\n",
            "  132108168347728: TensorSpec(shape=(), dtype=tf.resource, name=None)\n",
            "  132108168348880: TensorSpec(shape=(), dtype=tf.resource, name=None)\n",
            "  132108168348688: TensorSpec(shape=(), dtype=tf.resource, name=None)\n",
            "  132108168350032: TensorSpec(shape=(), dtype=tf.resource, name=None)\n",
            "  132108168348496: TensorSpec(shape=(), dtype=tf.resource, name=None)\n",
            "  132108168350416: TensorSpec(shape=(), dtype=tf.resource, name=None)\n",
            "  132108168350608: TensorSpec(shape=(), dtype=tf.resource, name=None)\n",
            "  132108168356176: TensorSpec(shape=(), dtype=tf.resource, name=None)\n",
            "  132108168352336: TensorSpec(shape=(), dtype=tf.resource, name=None)\n",
            "  132108168356560: TensorSpec(shape=(), dtype=tf.resource, name=None)\n",
            "  132108168356752: TensorSpec(shape=(), dtype=tf.resource, name=None)\n",
            "  132108168357712: TensorSpec(shape=(), dtype=tf.resource, name=None)\n",
            "  132108168353104: TensorSpec(shape=(), dtype=tf.resource, name=None)\n",
            "  132108168353872: TensorSpec(shape=(), dtype=tf.resource, name=None)\n",
            "  132108168358096: TensorSpec(shape=(), dtype=tf.resource, name=None)\n",
            "  132108168358288: TensorSpec(shape=(), dtype=tf.resource, name=None)\n",
            "  132108168347920: TensorSpec(shape=(), dtype=tf.resource, name=None)\n",
            "  132108168353488: TensorSpec(shape=(), dtype=tf.resource, name=None)\n",
            "  132108168353680: TensorSpec(shape=(), dtype=tf.resource, name=None)\n",
            "  132108168360784: TensorSpec(shape=(), dtype=tf.resource, name=None)\n",
            "  132108168359248: TensorSpec(shape=(), dtype=tf.resource, name=None)\n",
            "  132108168354640: TensorSpec(shape=(), dtype=tf.resource, name=None)\n",
            "  132108168351568: TensorSpec(shape=(), dtype=tf.resource, name=None)\n",
            "  132108168356944: TensorSpec(shape=(), dtype=tf.resource, name=None)\n",
            "  132108168361168: TensorSpec(shape=(), dtype=tf.resource, name=None)\n",
            "  132108168361360: TensorSpec(shape=(), dtype=tf.resource, name=None)\n",
            "  132108168355408: TensorSpec(shape=(), dtype=tf.resource, name=None)\n",
            "  132108168359632: TensorSpec(shape=(), dtype=tf.resource, name=None)\n",
            "  132108168359824: TensorSpec(shape=(), dtype=tf.resource, name=None)\n",
            "  132108168350800: TensorSpec(shape=(), dtype=tf.resource, name=None)\n",
            "  132108168355024: TensorSpec(shape=(), dtype=tf.resource, name=None)\n",
            "  132108168355216: TensorSpec(shape=(), dtype=tf.resource, name=None)\n",
            "  132108168348112: TensorSpec(shape=(), dtype=tf.resource, name=None)\n",
            "  132108168351952: TensorSpec(shape=(), dtype=tf.resource, name=None)\n",
            "  132108168352144: TensorSpec(shape=(), dtype=tf.resource, name=None)\n",
            "  132108168842128: TensorSpec(shape=(), dtype=tf.resource, name=None)\n",
            "  132108168840208: TensorSpec(shape=(), dtype=tf.resource, name=None)\n",
            "  132108168842512: TensorSpec(shape=(), dtype=tf.resource, name=None)\n",
            "  132108168842704: TensorSpec(shape=(), dtype=tf.resource, name=None)\n",
            "  132108168843664: TensorSpec(shape=(), dtype=tf.resource, name=None)\n",
            "  132108168363856: TensorSpec(shape=(), dtype=tf.resource, name=None)\n",
            "  132108168840400: TensorSpec(shape=(), dtype=tf.resource, name=None)\n",
            "  132108168844048: TensorSpec(shape=(), dtype=tf.resource, name=None)\n",
            "  132108168844240: TensorSpec(shape=(), dtype=tf.resource, name=None)\n",
            "  132108168363088: TensorSpec(shape=(), dtype=tf.resource, name=None)\n",
            "  132108168360016: TensorSpec(shape=(), dtype=tf.resource, name=None)\n",
            "  132108168363472: TensorSpec(shape=(), dtype=tf.resource, name=None)\n",
            "  132108168846736: TensorSpec(shape=(), dtype=tf.resource, name=None)\n",
            "  132108168845200: TensorSpec(shape=(), dtype=tf.resource, name=None)\n",
            "  132108168839632: TensorSpec(shape=(), dtype=tf.resource, name=None)\n",
            "  132108168362320: TensorSpec(shape=(), dtype=tf.resource, name=None)\n",
            "  132108168842896: TensorSpec(shape=(), dtype=tf.resource, name=None)\n",
            "  132108168845968: TensorSpec(shape=(), dtype=tf.resource, name=None)\n",
            "  132108168846928: TensorSpec(shape=(), dtype=tf.resource, name=None)\n",
            "  132108168841360: TensorSpec(shape=(), dtype=tf.resource, name=None)\n",
            "  132108168845584: TensorSpec(shape=(), dtype=tf.resource, name=None)\n",
            "  132108168845776: TensorSpec(shape=(), dtype=tf.resource, name=None)\n",
            "  132108168839824: TensorSpec(shape=(), dtype=tf.resource, name=None)\n",
            "  132108168840976: TensorSpec(shape=(), dtype=tf.resource, name=None)\n",
            "  132108168841168: TensorSpec(shape=(), dtype=tf.resource, name=None)\n",
            "  132108168358480: TensorSpec(shape=(), dtype=tf.resource, name=None)\n",
            "  132108168362704: TensorSpec(shape=(), dtype=tf.resource, name=None)\n",
            "  132108168362896: TensorSpec(shape=(), dtype=tf.resource, name=None)\n",
            "  132108168852880: TensorSpec(shape=(), dtype=tf.resource, name=None)\n",
            "  132108168849040: TensorSpec(shape=(), dtype=tf.resource, name=None)\n",
            "  132108168853264: TensorSpec(shape=(), dtype=tf.resource, name=None)\n",
            "  132108168853456: TensorSpec(shape=(), dtype=tf.resource, name=None)\n",
            "  132108168854416: TensorSpec(shape=(), dtype=tf.resource, name=None)\n",
            "  132108168849808: TensorSpec(shape=(), dtype=tf.resource, name=None)\n",
            "  132108168850576: TensorSpec(shape=(), dtype=tf.resource, name=None)\n",
            "  132108168854032: TensorSpec(shape=(), dtype=tf.resource, name=None)\n",
            "  132108168854992: TensorSpec(shape=(), dtype=tf.resource, name=None)\n",
            "  132108168846352: TensorSpec(shape=(), dtype=tf.resource, name=None)\n",
            "  132108168850192: TensorSpec(shape=(), dtype=tf.resource, name=None)\n",
            "  132108168850384: TensorSpec(shape=(), dtype=tf.resource, name=None)\n",
            "  132108167268304: TensorSpec(shape=(), dtype=tf.resource, name=None)\n",
            "  132108168852496: TensorSpec(shape=(), dtype=tf.resource, name=None)\n",
            "  132108168851344: TensorSpec(shape=(), dtype=tf.resource, name=None)\n",
            "  132108168848272: TensorSpec(shape=(), dtype=tf.resource, name=None)\n",
            "  132108167267536: TensorSpec(shape=(), dtype=tf.resource, name=None)\n",
            "  132108167268688: TensorSpec(shape=(), dtype=tf.resource, name=None)\n",
            "  132108167268880: TensorSpec(shape=(), dtype=tf.resource, name=None)\n",
            "  132108167266576: TensorSpec(shape=(), dtype=tf.resource, name=None)\n",
            "  132108167267344: TensorSpec(shape=(), dtype=tf.resource, name=None)\n",
            "  132108168855184: TensorSpec(shape=(), dtype=tf.resource, name=None)\n",
            "  132108168847888: TensorSpec(shape=(), dtype=tf.resource, name=None)\n",
            "  132108168851728: TensorSpec(shape=(), dtype=tf.resource, name=None)\n",
            "  132108168851920: TensorSpec(shape=(), dtype=tf.resource, name=None)\n",
            "  132108168844432: TensorSpec(shape=(), dtype=tf.resource, name=None)\n",
            "  132108168848656: TensorSpec(shape=(), dtype=tf.resource, name=None)\n",
            "  132108168848848: TensorSpec(shape=(), dtype=tf.resource, name=None)\n",
            "  132108167271376: TensorSpec(shape=(), dtype=tf.resource, name=None)\n",
            "  132108167266384: TensorSpec(shape=(), dtype=tf.resource, name=None)\n",
            "  132108167271760: TensorSpec(shape=(), dtype=tf.resource, name=None)\n",
            "  132108167271952: TensorSpec(shape=(), dtype=tf.resource, name=None)\n",
            "  132108167272912: TensorSpec(shape=(), dtype=tf.resource, name=None)\n",
            "  132108167269072: TensorSpec(shape=(), dtype=tf.resource, name=None)\n",
            "  132108167273296: TensorSpec(shape=(), dtype=tf.resource, name=None)\n",
            "  132108167273488: TensorSpec(shape=(), dtype=tf.resource, name=None)\n",
            "  132108167274448: TensorSpec(shape=(), dtype=tf.resource, name=None)\n",
            "  132108167269840: TensorSpec(shape=(), dtype=tf.resource, name=None)\n",
            "  132108167270608: TensorSpec(shape=(), dtype=tf.resource, name=None)\n",
            "  132108167274832: TensorSpec(shape=(), dtype=tf.resource, name=None)\n",
            "  132108167275024: TensorSpec(shape=(), dtype=tf.resource, name=None)\n",
            "  132108167266768: TensorSpec(shape=(), dtype=tf.resource, name=None)\n",
            "  132108167270224: TensorSpec(shape=(), dtype=tf.resource, name=None)\n",
            "  132108167270416: TensorSpec(shape=(), dtype=tf.resource, name=None)\n",
            "  132108167282128: TensorSpec(shape=(), dtype=tf.resource, name=None)\n",
            "  132108167281360: TensorSpec(shape=(), dtype=tf.resource, name=None)\n",
            "  132108167279824: TensorSpec(shape=(), dtype=tf.resource, name=None)\n",
            "  132108167282320: TensorSpec(shape=(), dtype=tf.resource, name=None)\n",
            "  132108167282512: TensorSpec(shape=(), dtype=tf.resource, name=None)\n",
            "  132108167790864: TensorSpec(shape=(), dtype=tf.resource, name=None)\n",
            "  132108167792016: TensorSpec(shape=(), dtype=tf.resource, name=None)\n",
            "  132108167791824: TensorSpec(shape=(), dtype=tf.resource, name=None)\n",
            "  132108167793168: TensorSpec(shape=(), dtype=tf.resource, name=None)\n",
            "  132108167277520: TensorSpec(shape=(), dtype=tf.resource, name=None)\n",
            "  132108167791632: TensorSpec(shape=(), dtype=tf.resource, name=None)\n",
            "  132108167793552: TensorSpec(shape=(), dtype=tf.resource, name=None)\n",
            "  132108167793744: TensorSpec(shape=(), dtype=tf.resource, name=None)\n",
            "  132108167273680: TensorSpec(shape=(), dtype=tf.resource, name=None)\n",
            "  132108167277904: TensorSpec(shape=(), dtype=tf.resource, name=None)\n",
            "  132108167278096: TensorSpec(shape=(), dtype=tf.resource, name=None)\n",
            "  132108167794704: TensorSpec(shape=(), dtype=tf.resource, name=None)\n",
            "  132108167279056: TensorSpec(shape=(), dtype=tf.resource, name=None)\n",
            "  132108167791248: TensorSpec(shape=(), dtype=tf.resource, name=None)\n",
            "  132108167795088: TensorSpec(shape=(), dtype=tf.resource, name=None)\n",
            "  132108167795280: TensorSpec(shape=(), dtype=tf.resource, name=None)\n",
            "  132108167275216: TensorSpec(shape=(), dtype=tf.resource, name=None)\n",
            "  132108167279440: TensorSpec(shape=(), dtype=tf.resource, name=None)\n",
            "  132108167279632: TensorSpec(shape=(), dtype=tf.resource, name=None)\n",
            "  132108167797776: TensorSpec(shape=(), dtype=tf.resource, name=None)\n",
            "  132108167796240: TensorSpec(shape=(), dtype=tf.resource, name=None)\n",
            "  132108167280592: TensorSpec(shape=(), dtype=tf.resource, name=None)\n",
            "  132108167275984: TensorSpec(shape=(), dtype=tf.resource, name=None)\n",
            "  132108167793936: TensorSpec(shape=(), dtype=tf.resource, name=None)\n",
            "  132108167798160: TensorSpec(shape=(), dtype=tf.resource, name=None)\n",
            "  132108167798352: TensorSpec(shape=(), dtype=tf.resource, name=None)\n",
            "  132108167791056: TensorSpec(shape=(), dtype=tf.resource, name=None)\n",
            "  132108167796624: TensorSpec(shape=(), dtype=tf.resource, name=None)\n",
            "  132108167796816: TensorSpec(shape=(), dtype=tf.resource, name=None)\n",
            "  132108167276752: TensorSpec(shape=(), dtype=tf.resource, name=None)\n",
            "  132108167280976: TensorSpec(shape=(), dtype=tf.resource, name=None)\n",
            "  132108167281168: TensorSpec(shape=(), dtype=tf.resource, name=None)\n",
            "  132108167272144: TensorSpec(shape=(), dtype=tf.resource, name=None)\n",
            "  132108167276368: TensorSpec(shape=(), dtype=tf.resource, name=None)\n",
            "  132108167276560: TensorSpec(shape=(), dtype=tf.resource, name=None)\n",
            "  132108167805456: TensorSpec(shape=(), dtype=tf.resource, name=None)\n",
            "  132108167801616: TensorSpec(shape=(), dtype=tf.resource, name=None)\n",
            "  132108167805840: TensorSpec(shape=(), dtype=tf.resource, name=None)\n",
            "  132108167806032: TensorSpec(shape=(), dtype=tf.resource, name=None)\n",
            "  132108167803152: TensorSpec(shape=(), dtype=tf.resource, name=None)\n",
            "  132108167803536: TensorSpec(shape=(), dtype=tf.resource, name=None)\n",
            "  132108166201808: TensorSpec(shape=(), dtype=tf.resource, name=None)\n",
            "  132108167806224: TensorSpec(shape=(), dtype=tf.resource, name=None)\n",
            "  132108166202960: TensorSpec(shape=(), dtype=tf.resource, name=None)\n",
            "  132108167800848: TensorSpec(shape=(), dtype=tf.resource, name=None)\n",
            "  132108166202192: TensorSpec(shape=(), dtype=tf.resource, name=None)\n",
            "  132108166203344: TensorSpec(shape=(), dtype=tf.resource, name=None)\n",
            "  132108166203536: TensorSpec(shape=(), dtype=tf.resource, name=None)\n",
            "  132108167797008: TensorSpec(shape=(), dtype=tf.resource, name=None)\n",
            "  132108167801232: TensorSpec(shape=(), dtype=tf.resource, name=None)\n",
            "  132108167801424: TensorSpec(shape=(), dtype=tf.resource, name=None)\n",
            "  132108166204496: TensorSpec(shape=(), dtype=tf.resource, name=None)\n",
            "  132108167802384: TensorSpec(shape=(), dtype=tf.resource, name=None)\n",
            "  132108166202576: TensorSpec(shape=(), dtype=tf.resource, name=None)\n",
            "  132108166204880: TensorSpec(shape=(), dtype=tf.resource, name=None)\n",
            "  132108166205072: TensorSpec(shape=(), dtype=tf.resource, name=None)\n",
            "  132108167798544: TensorSpec(shape=(), dtype=tf.resource, name=None)\n",
            "  132108167802768: TensorSpec(shape=(), dtype=tf.resource, name=None)\n",
            "  132108167802960: TensorSpec(shape=(), dtype=tf.resource, name=None)\n",
            "  132108166207568: TensorSpec(shape=(), dtype=tf.resource, name=None)\n",
            "  132108166206032: TensorSpec(shape=(), dtype=tf.resource, name=None)\n",
            "  132108167803920: TensorSpec(shape=(), dtype=tf.resource, name=None)\n",
            "  132108167799312: TensorSpec(shape=(), dtype=tf.resource, name=None)\n",
            "  132108166203728: TensorSpec(shape=(), dtype=tf.resource, name=None)\n",
            "  132108166207952: TensorSpec(shape=(), dtype=tf.resource, name=None)\n",
            "  132108166208144: TensorSpec(shape=(), dtype=tf.resource, name=None)\n",
            "  132108166202384: TensorSpec(shape=(), dtype=tf.resource, name=None)\n",
            "  132108166206416: TensorSpec(shape=(), dtype=tf.resource, name=None)\n",
            "  132108166206608: TensorSpec(shape=(), dtype=tf.resource, name=None)\n",
            "  132108167800080: TensorSpec(shape=(), dtype=tf.resource, name=None)\n",
            "  132108167804304: TensorSpec(shape=(), dtype=tf.resource, name=None)\n",
            "  132108167804496: TensorSpec(shape=(), dtype=tf.resource, name=None)\n",
            "  132108167795472: TensorSpec(shape=(), dtype=tf.resource, name=None)\n",
            "  132108167799696: TensorSpec(shape=(), dtype=tf.resource, name=None)\n",
            "  132108167799888: TensorSpec(shape=(), dtype=tf.resource, name=None)\n",
            "  132108166215248: TensorSpec(shape=(), dtype=tf.resource, name=None)\n",
            "  132108166211408: TensorSpec(shape=(), dtype=tf.resource, name=None)\n",
            "  132108166215632: TensorSpec(shape=(), dtype=tf.resource, name=None)\n",
            "  132108166215824: TensorSpec(shape=(), dtype=tf.resource, name=None)\n",
            "  132108166216784: TensorSpec(shape=(), dtype=tf.resource, name=None)\n",
            "  132108166212944: TensorSpec(shape=(), dtype=tf.resource, name=None)\n",
            "  132108166216400: TensorSpec(shape=(), dtype=tf.resource, name=None)\n",
            "  132108166217360: TensorSpec(shape=(), dtype=tf.resource, name=None)\n",
            "  132108166216016: TensorSpec(shape=(), dtype=tf.resource, name=None)\n",
            "  132108166210640: TensorSpec(shape=(), dtype=tf.resource, name=None)\n",
            "  132108166709520: TensorSpec(shape=(), dtype=tf.resource, name=None)\n",
            "  132108166710288: TensorSpec(shape=(), dtype=tf.resource, name=None)\n",
            "  132108166214480: TensorSpec(shape=(), dtype=tf.resource, name=None)\n",
            "  132108166206800: TensorSpec(shape=(), dtype=tf.resource, name=None)\n",
            "  132108166211024: TensorSpec(shape=(), dtype=tf.resource, name=None)\n",
            "  132108166211216: TensorSpec(shape=(), dtype=tf.resource, name=None)\n",
            "  132108166711440: TensorSpec(shape=(), dtype=tf.resource, name=None)\n",
            "  132108166212176: TensorSpec(shape=(), dtype=tf.resource, name=None)\n",
            "  132108166710096: TensorSpec(shape=(), dtype=tf.resource, name=None)\n",
            "  132108166711824: TensorSpec(shape=(), dtype=tf.resource, name=None)\n",
            "  132108166712016: TensorSpec(shape=(), dtype=tf.resource, name=None)\n",
            "  132108166208336: TensorSpec(shape=(), dtype=tf.resource, name=None)\n",
            "  132108166212560: TensorSpec(shape=(), dtype=tf.resource, name=None)\n",
            "  132108166212752: TensorSpec(shape=(), dtype=tf.resource, name=None)\n",
            "  132108166714512: TensorSpec(shape=(), dtype=tf.resource, name=None)\n",
            "  132108166712976: TensorSpec(shape=(), dtype=tf.resource, name=None)\n",
            "  132108166213712: TensorSpec(shape=(), dtype=tf.resource, name=None)\n",
            "  132108166209104: TensorSpec(shape=(), dtype=tf.resource, name=None)\n",
            "  132108166709328: TensorSpec(shape=(), dtype=tf.resource, name=None)\n",
            "  132108166714896: TensorSpec(shape=(), dtype=tf.resource, name=None)\n",
            "  132108166715088: TensorSpec(shape=(), dtype=tf.resource, name=None)\n",
            "  132108166709712: TensorSpec(shape=(), dtype=tf.resource, name=None)\n",
            "  132108166713360: TensorSpec(shape=(), dtype=tf.resource, name=None)\n",
            "  132108166713552: TensorSpec(shape=(), dtype=tf.resource, name=None)\n",
            "  132108166209872: TensorSpec(shape=(), dtype=tf.resource, name=None)\n",
            "  132108166214096: TensorSpec(shape=(), dtype=tf.resource, name=None)\n",
            "  132108166214288: TensorSpec(shape=(), dtype=tf.resource, name=None)\n",
            "  132108166205264: TensorSpec(shape=(), dtype=tf.resource, name=None)\n",
            "  132108166209488: TensorSpec(shape=(), dtype=tf.resource, name=None)\n",
            "  132108166209680: TensorSpec(shape=(), dtype=tf.resource, name=None)\n",
            "  132108166722192: TensorSpec(shape=(), dtype=tf.resource, name=None)\n",
            "  132108166718352: TensorSpec(shape=(), dtype=tf.resource, name=None)\n",
            "  132108166722576: TensorSpec(shape=(), dtype=tf.resource, name=None)\n",
            "  132108166722768: TensorSpec(shape=(), dtype=tf.resource, name=None)\n",
            "  132108166723728: TensorSpec(shape=(), dtype=tf.resource, name=None)\n",
            "  132108166719888: TensorSpec(shape=(), dtype=tf.resource, name=None)\n",
            "  132108166724112: TensorSpec(shape=(), dtype=tf.resource, name=None)\n",
            "  132108166724304: TensorSpec(shape=(), dtype=tf.resource, name=None)\n",
            "  132108166725264: TensorSpec(shape=(), dtype=tf.resource, name=None)\n",
            "  132108166717584: TensorSpec(shape=(), dtype=tf.resource, name=None)\n",
            "  132108166724496: TensorSpec(shape=(), dtype=tf.resource, name=None)\n",
            "  132108166722960: TensorSpec(shape=(), dtype=tf.resource, name=None)\n",
            "  132108166724880: TensorSpec(shape=(), dtype=tf.resource, name=None)\n",
            "  132108166713744: TensorSpec(shape=(), dtype=tf.resource, name=None)\n",
            "  132108166717968: TensorSpec(shape=(), dtype=tf.resource, name=None)\n",
            "  132108166718160: TensorSpec(shape=(), dtype=tf.resource, name=None)\n",
            "  132108165153040: TensorSpec(shape=(), dtype=tf.resource, name=None)\n",
            "  132108166719120: TensorSpec(shape=(), dtype=tf.resource, name=None)\n",
            "  132108165153232: TensorSpec(shape=(), dtype=tf.resource, name=None)\n",
            "  132108165154384: TensorSpec(shape=(), dtype=tf.resource, name=None)\n",
            "  132108165154576: TensorSpec(shape=(), dtype=tf.resource, name=None)\n",
            "  132108166715280: TensorSpec(shape=(), dtype=tf.resource, name=None)\n",
            "  132108166719504: TensorSpec(shape=(), dtype=tf.resource, name=None)\n",
            "  132108166719696: TensorSpec(shape=(), dtype=tf.resource, name=None)\n",
            "  132108165157072: TensorSpec(shape=(), dtype=tf.resource, name=None)\n",
            "  132108165155536: TensorSpec(shape=(), dtype=tf.resource, name=None)\n",
            "  132108166720656: TensorSpec(shape=(), dtype=tf.resource, name=None)\n",
            "  132108166716048: TensorSpec(shape=(), dtype=tf.resource, name=None)\n",
            "  132108165153808: TensorSpec(shape=(), dtype=tf.resource, name=None)\n",
            "  132108165157456: TensorSpec(shape=(), dtype=tf.resource, name=None)\n",
            "  132108165157648: TensorSpec(shape=(), dtype=tf.resource, name=None)\n",
            "  132108165153616: TensorSpec(shape=(), dtype=tf.resource, name=None)\n",
            "  132108165155920: TensorSpec(shape=(), dtype=tf.resource, name=None)\n",
            "  132108165156112: TensorSpec(shape=(), dtype=tf.resource, name=None)\n",
            "  132108166716816: TensorSpec(shape=(), dtype=tf.resource, name=None)\n",
            "  132108166721040: TensorSpec(shape=(), dtype=tf.resource, name=None)\n",
            "  132108166721232: TensorSpec(shape=(), dtype=tf.resource, name=None)\n",
            "  132108166712208: TensorSpec(shape=(), dtype=tf.resource, name=None)\n",
            "  132108166716432: TensorSpec(shape=(), dtype=tf.resource, name=None)\n",
            "  132108166716624: TensorSpec(shape=(), dtype=tf.resource, name=None)\n",
            "  132108165161680: TensorSpec(shape=(), dtype=tf.resource, name=None)\n",
            "  132108165157840: TensorSpec(shape=(), dtype=tf.resource, name=None)\n",
            "  132108165162064: TensorSpec(shape=(), dtype=tf.resource, name=None)\n",
            "  132108165162256: TensorSpec(shape=(), dtype=tf.resource, name=None)\n",
            "  132108165163216: TensorSpec(shape=(), dtype=tf.resource, name=None)\n",
            "  132108165159376: TensorSpec(shape=(), dtype=tf.resource, name=None)\n",
            "  132108165163600: TensorSpec(shape=(), dtype=tf.resource, name=None)\n",
            "  132108165163792: TensorSpec(shape=(), dtype=tf.resource, name=None)\n",
            "  132108165164752: TensorSpec(shape=(), dtype=tf.resource, name=None)\n",
            "  132108165158608: TensorSpec(shape=(), dtype=tf.resource, name=None)\n",
            "  132108165160912: TensorSpec(shape=(), dtype=tf.resource, name=None)\n",
            "  132108165165136: TensorSpec(shape=(), dtype=tf.resource, name=None)\n",
            "  132108165165328: TensorSpec(shape=(), dtype=tf.resource, name=None)\n",
            "  132108165154768: TensorSpec(shape=(), dtype=tf.resource, name=None)\n",
            "  132108165158992: TensorSpec(shape=(), dtype=tf.resource, name=None)\n",
            "  132108165159184: TensorSpec(shape=(), dtype=tf.resource, name=None)\n",
            "  132108165166288: TensorSpec(shape=(), dtype=tf.resource, name=None)\n",
            "  132108165160144: TensorSpec(shape=(), dtype=tf.resource, name=None)\n",
            "  132108165162448: TensorSpec(shape=(), dtype=tf.resource, name=None)\n",
            "  132108165166672: TensorSpec(shape=(), dtype=tf.resource, name=None)\n",
            "  132108165166864: TensorSpec(shape=(), dtype=tf.resource, name=None)\n",
            "  132108165156304: TensorSpec(shape=(), dtype=tf.resource, name=None)\n",
            "  132108165160528: TensorSpec(shape=(), dtype=tf.resource, name=None)\n",
            "  132108165160720: TensorSpec(shape=(), dtype=tf.resource, name=None)\n",
            "  132108165632784: TensorSpec(shape=(), dtype=tf.resource, name=None)\n",
            "  132108165628944: TensorSpec(shape=(), dtype=tf.resource, name=None)\n",
            "  132108165633168: TensorSpec(shape=(), dtype=tf.resource, name=None)\n",
            "  132108165633360: TensorSpec(shape=(), dtype=tf.resource, name=None)\n",
            "  132108165634320: TensorSpec(shape=(), dtype=tf.resource, name=None)\n",
            "  132108165165904: TensorSpec(shape=(), dtype=tf.resource, name=None)\n",
            "  132108165630480: TensorSpec(shape=(), dtype=tf.resource, name=None)\n",
            "  132108165634704: TensorSpec(shape=(), dtype=tf.resource, name=None)\n",
            "  132108165634896: TensorSpec(shape=(), dtype=tf.resource, name=None)\n",
            "  132108165165520: TensorSpec(shape=(), dtype=tf.resource, name=None)\n",
            "  132108165628560: TensorSpec(shape=(), dtype=tf.resource, name=None)\n",
            "  132108165168976: TensorSpec(shape=(), dtype=tf.resource, name=None)\n",
            "  132108165637392: TensorSpec(shape=(), dtype=tf.resource, name=None)\n",
            "  132108165635856: TensorSpec(shape=(), dtype=tf.resource, name=None)\n",
            "  132108165631248: TensorSpec(shape=(), dtype=tf.resource, name=None)\n",
            "  132108165629712: TensorSpec(shape=(), dtype=tf.resource, name=None)\n",
            "  132108165638928: TensorSpec(shape=(), dtype=tf.resource, name=None)\n",
            "  132108165633552: TensorSpec(shape=(), dtype=tf.resource, name=None)\n",
            "  132108165637776: TensorSpec(shape=(), dtype=tf.resource, name=None)\n",
            "  132108165637968: TensorSpec(shape=(), dtype=tf.resource, name=None)\n",
            "  132108165632016: TensorSpec(shape=(), dtype=tf.resource, name=None)\n",
            "  132108165636240: TensorSpec(shape=(), dtype=tf.resource, name=None)\n",
            "  132108165636432: TensorSpec(shape=(), dtype=tf.resource, name=None)\n",
            "  132108165627984: TensorSpec(shape=(), dtype=tf.resource, name=None)\n",
            "  132108165631632: TensorSpec(shape=(), dtype=tf.resource, name=None)\n",
            "  132108165631824: TensorSpec(shape=(), dtype=tf.resource, name=None)\n",
            "  132108165628176: TensorSpec(shape=(), dtype=tf.resource, name=None)\n",
            "  132108165630096: TensorSpec(shape=(), dtype=tf.resource, name=None)\n",
            "  132108165630288: TensorSpec(shape=(), dtype=tf.resource, name=None)\n",
            "  132108165167824: TensorSpec(shape=(), dtype=tf.resource, name=None)\n",
            "  132108165635088: TensorSpec(shape=(), dtype=tf.resource, name=None)\n",
            "  132108165639312: TensorSpec(shape=(), dtype=tf.resource, name=None)\n",
            "  132108165639504: TensorSpec(shape=(), dtype=tf.resource, name=None)\n",
            "  132108165163984: TensorSpec(shape=(), dtype=tf.resource, name=None)\n",
            "  132108165168208: TensorSpec(shape=(), dtype=tf.resource, name=None)\n",
            "  132108165168400: TensorSpec(shape=(), dtype=tf.resource, name=None)\n",
            "  132108164090192: TensorSpec(shape=(), dtype=tf.resource, name=None)\n",
            "  132108164088272: TensorSpec(shape=(), dtype=tf.resource, name=None)\n",
            "  132108164090576: TensorSpec(shape=(), dtype=tf.resource, name=None)\n",
            "  132108164090768: TensorSpec(shape=(), dtype=tf.resource, name=None)\n",
            "  132108164091728: TensorSpec(shape=(), dtype=tf.resource, name=None)\n",
            "  132108165642000: TensorSpec(shape=(), dtype=tf.resource, name=None)\n",
            "  132108164089424: TensorSpec(shape=(), dtype=tf.resource, name=None)\n",
            "  132108164092112: TensorSpec(shape=(), dtype=tf.resource, name=None)\n",
            "  132108164092304: TensorSpec(shape=(), dtype=tf.resource, name=None)\n",
            "  132108165638160: TensorSpec(shape=(), dtype=tf.resource, name=None)\n",
            "  132108165642384: TensorSpec(shape=(), dtype=tf.resource, name=None)\n",
            "  132108165642576: TensorSpec(shape=(), dtype=tf.resource, name=None)\n",
            "  132108164094800: TensorSpec(shape=(), dtype=tf.resource, name=None)\n",
            "  132108164093264: TensorSpec(shape=(), dtype=tf.resource, name=None)\n",
            "  132108165641232: TensorSpec(shape=(), dtype=tf.resource, name=None)\n",
            "  132108165643536: TensorSpec(shape=(), dtype=tf.resource, name=None)\n",
            "  132108164096336: TensorSpec(shape=(), dtype=tf.resource, name=None)\n",
            "  132108164090960: TensorSpec(shape=(), dtype=tf.resource, name=None)\n",
            "  132108164095184: TensorSpec(shape=(), dtype=tf.resource, name=None)\n",
            "  132108164095376: TensorSpec(shape=(), dtype=tf.resource, name=None)\n",
            "  132108164087888: TensorSpec(shape=(), dtype=tf.resource, name=None)\n",
            "  132108164093648: TensorSpec(shape=(), dtype=tf.resource, name=None)\n",
            "  132108164093840: TensorSpec(shape=(), dtype=tf.resource, name=None)\n",
            "  132108164088080: TensorSpec(shape=(), dtype=tf.resource, name=None)\n",
            "  132108164089040: TensorSpec(shape=(), dtype=tf.resource, name=None)\n",
            "  132108164089232: TensorSpec(shape=(), dtype=tf.resource, name=None)\n",
            "  132108165642768: TensorSpec(shape=(), dtype=tf.resource, name=None)\n",
            "  132108165644112: TensorSpec(shape=(), dtype=tf.resource, name=None)\n",
            "  132108165643920: TensorSpec(shape=(), dtype=tf.resource, name=None)\n",
            "  132108165640464: TensorSpec(shape=(), dtype=tf.resource, name=None)\n",
            "  132108164092496: TensorSpec(shape=(), dtype=tf.resource, name=None)\n",
            "  132108164096720: TensorSpec(shape=(), dtype=tf.resource, name=None)\n",
            "  132108164096912: TensorSpec(shape=(), dtype=tf.resource, name=None)\n",
            "  132108165636624: TensorSpec(shape=(), dtype=tf.resource, name=None)\n",
            "  132108165640848: TensorSpec(shape=(), dtype=tf.resource, name=None)\n",
            "  132108165641040: TensorSpec(shape=(), dtype=tf.resource, name=None)\n",
            "  132108164097488: TensorSpec(shape=(), dtype=tf.resource, name=None)\n",
            "  132108164097872: TensorSpec(shape=(), dtype=tf.resource, name=None)\n",
            "  132108164097104: TensorSpec(shape=(), dtype=tf.resource, name=None)\n",
            "  132108164097680: TensorSpec(shape=(), dtype=tf.resource, name=None)\n",
            "  132108164099408: TensorSpec(shape=(), dtype=tf.resource, name=None)\n",
            "  132108164099984: TensorSpec(shape=(), dtype=tf.resource, name=None)\n",
            "  132108164100176: TensorSpec(shape=(), dtype=tf.resource, name=None)\n",
            "  132108164099024: TensorSpec(shape=(), dtype=tf.resource, name=None)\n",
            "  132108164094032: TensorSpec(shape=(), dtype=tf.resource, name=None)\n",
            "  132108164099792: TensorSpec(shape=(), dtype=tf.resource, name=None)\n",
            "  132108164101712: TensorSpec(shape=(), dtype=tf.resource, name=None)\n",
            "  132108164102288: TensorSpec(shape=(), dtype=tf.resource, name=None)\n",
            "  132108164102480: TensorSpec(shape=(), dtype=tf.resource, name=None)\n",
            "  132108164101328: TensorSpec(shape=(), dtype=tf.resource, name=None)\n",
            "  132108164095568: TensorSpec(shape=(), dtype=tf.resource, name=None)\n",
            "  132108164102096: TensorSpec(shape=(), dtype=tf.resource, name=None)\n",
            "  132108164104016: TensorSpec(shape=(), dtype=tf.resource, name=None)\n",
            "  132108164103632: TensorSpec(shape=(), dtype=tf.resource, name=None)\n"
          ]
        }
      ],
      "source": [
        "model.save('/content/model_InceptionV3.keras')\n",
        "model.export('/content/models/inceptionV3_model')"
      ]
    },
    {
      "cell_type": "code",
      "execution_count": null,
      "metadata": {
        "id": "MXOspV2RQzxO"
      },
      "outputs": [],
      "source": [
        "hist_=pd.DataFrame(history.history)"
      ]
    },
    {
      "cell_type": "code",
      "execution_count": null,
      "metadata": {
        "id": "z2oziusVQzxM",
        "colab": {
          "base_uri": "https://localhost:8080/"
        },
        "outputId": "363bf7c6-4444-4c23-81b1-d371d3161605"
      },
      "outputs": [
        {
          "output_type": "stream",
          "name": "stdout",
          "text": [
            "\u001b[1m125/125\u001b[0m \u001b[32m━━━━━━━━━━━━━━━━━━━━\u001b[0m\u001b[37m\u001b[0m \u001b[1m8s\u001b[0m 61ms/step - accuracy: 0.9775 - loss: 0.0743\n",
            "Val Loss = 0.09799399226903915\n",
            "Val Accuracy = 0.9695000052452087\n"
          ]
        }
      ],
      "source": [
        "score, acc= model.evaluate(test_ds)\n",
        "print('Val Loss =', score)\n",
        "print('Val Accuracy =', acc)"
      ]
    },
    {
      "cell_type": "code",
      "execution_count": null,
      "metadata": {
        "id": "sOTXUrMxQzxQ",
        "colab": {
          "base_uri": "https://localhost:8080/",
          "height": 753
        },
        "outputId": "ee37f96e-b6f3-42ad-8133-0e0c90d8aff3"
      },
      "outputs": [
        {
          "output_type": "display_data",
          "data": {
            "text/plain": [
              "<Figure size 1500x1000 with 2 Axes>"
            ],
            "image/png": "[encoded data removed]"
          },
          "metadata": {}
        }
      ],
      "source": [
        "plt.figure(figsize=(15,10))\n",
        "plt.subplot(1,2,1)\n",
        "plt.plot(hist_['loss'],label='Train_Loss')\n",
        "plt.plot(hist_['val_loss'],label='Validation_Loss')\n",
        "plt.title('Train_Loss & Validation_Loss',fontsize=20)\n",
        "plt.legend()\n",
        "plt.subplot(1,2,2)\n",
        "plt.plot(hist_['accuracy'],label='Train_Accuracy')\n",
        "plt.plot(hist_['val_accuracy'],label='Validation_Accuracy')\n",
        "plt.title('Train_Accuracy & Validation_Accuracy',fontsize=20)\n",
        "plt.legend()\n",
        "plt.show()"
      ]
    },
    {
      "cell_type": "code",
      "execution_count": null,
      "metadata": {
        "id": "tYvMVpvJQzxS",
        "colab": {
          "base_uri": "https://localhost:8080/"
        },
        "outputId": "6059183b-13c4-42fd-fbb2-f94b51894c9c"
      },
      "outputs": [
        {
          "output_type": "stream",
          "name": "stdout",
          "text": [
            "\u001b[1m125/125\u001b[0m \u001b[32m━━━━━━━━━━━━━━━━━━━━\u001b[0m\u001b[37m\u001b[0m \u001b[1m15s\u001b[0m 65ms/step\n"
          ]
        }
      ],
      "source": [
        "import numpy as np\n",
        "import pandas as pd\n",
        "\n",
        "# Convert test labels (one-hot) to class indices\n",
        "y_test_labels = []\n",
        "for batch in test_ds:\n",
        "    images, labels = batch\n",
        "    y_test_labels.append(labels.numpy())\n",
        "\n",
        "y_test = np.concatenate(y_test_labels, axis=0)\n",
        "y_test = np.argmax(y_test, axis=1)  # Convert one-hot to class index\n",
        "\n",
        "# Predict using model\n",
        "predictions = model.predict(test_ds)\n",
        "y_pred = np.argmax(predictions, axis=1)  # Class index\n",
        "\n",
        "# Create a DataFrame with Actual vs Prediction\n",
        "df = pd.DataFrame({'Actual': y_test, 'Prediction': y_pred})\n"
      ]
    },
    {
      "cell_type": "code",
      "execution_count": null,
      "metadata": {
        "id": "n6S-hs0DQzxU",
        "colab": {
          "base_uri": "https://localhost:8080/",
          "height": 633
        },
        "outputId": "ed0c3785-3daf-43c7-e99d-916f8f59d3e8"
      },
      "outputs": [
        {
          "output_type": "display_data",
          "data": {
            "text/plain": [
              "<Figure size 800x600 with 1 Axes>"
            ],
            "image/png": "[encoded data removed]"
          },
          "metadata": {}
        },
        {
          "output_type": "execute_result",
          "data": {
            "text/plain": [
              "array([[487,   2,   7,   4],\n",
              "       [  0, 500,   0,   0],\n",
              "       [  0,   0, 496,   4],\n",
              "       [  6,   0,  38, 456]])"
            ]
          },
          "metadata": {},
          "execution_count": 31
        }
      ],
      "source": [
        "import seaborn as sns\n",
        "import matplotlib.pyplot as plt\n",
        "from sklearn.metrics import confusion_matrix\n",
        "\n",
        "# Ensure your predicted and true labels are available\n",
        "# y_test and y_pred should be 1D arrays of class indices\n",
        "\n",
        "# Define class labels (update to match your actual class names)\n",
        "class_names = ['MildDemented', 'ModerateDemented', 'NonDemented', 'VeryMildDemented']\n",
        "\n",
        "# Compute the confusion matrix\n",
        "CM = confusion_matrix(y_test, y_pred)\n",
        "\n",
        "# Normalize the confusion matrix\n",
        "CM_percent = CM.astype('float') / CM.sum(axis=1)[:, np.newaxis]\n",
        "\n",
        "# Plot the heatmap\n",
        "plt.figure(figsize=(8, 6))\n",
        "sns.heatmap(CM_percent,\n",
        "            fmt='.2f',\n",
        "            annot=True,\n",
        "            cmap='Blues',\n",
        "            xticklabels=class_names,\n",
        "            yticklabels=class_names,\n",
        "            cbar=False)\n",
        "\n",
        "plt.xlabel('Predicted Label')\n",
        "plt.ylabel('True Label')\n",
        "plt.title('Normalized Confusion Matrix')\n",
        "plt.show()\n",
        "\n",
        "# Optionally print the raw CM\n",
        "CM\n"
      ]
    },
    {
      "cell_type": "code",
      "execution_count": null,
      "metadata": {
        "id": "ZY7brHMYQzxW",
        "colab": {
          "base_uri": "https://localhost:8080/"
        },
        "outputId": "e52f329f-3e71-41ad-f910-1e4509c9e710"
      },
      "outputs": [
        {
          "output_type": "stream",
          "name": "stdout",
          "text": [
            "Classification Report is :                    precision    recall  f1-score   support\n",
            "\n",
            "    MildDemented       0.99      0.97      0.98       500\n",
            "ModerateDemented       1.00      1.00      1.00       500\n",
            "     NonDemented       0.92      0.99      0.95       500\n",
            "VeryMildDemented       0.98      0.91      0.95       500\n",
            "\n",
            "        accuracy                           0.97      2000\n",
            "       macro avg       0.97      0.97      0.97      2000\n",
            "    weighted avg       0.97      0.97      0.97      2000\n",
            "\n"
          ]
        }
      ],
      "source": [
        "ClassificationReport = classification_report(y_test,y_pred,target_names=class_names)\n",
        "print('Classification Report is : ', ClassificationReport)"
      ]
    }
  ],
  "metadata": {
    "accelerator": "GPU",
    "colab": {
      "gpuType": "T4",
      "provenance": [],
      "include_colab_link": true
    },
    "kernelspec": {
      "display_name": "Python 3",
      "name": "python3"
    },
    "language_info": {
      "codemirror_mode": {
        "name": "ipython",
        "version": 3
      },
      "file_extension": ".py",
      "mimetype": "text/x-python",
      "name": "python",
      "nbconvert_exporter": "python",
      "pygments_lexer": "ipython3",
      "version": "3.11.3"
    }
  },
  "nbformat": 4,
  "nbformat_minor": 0
}