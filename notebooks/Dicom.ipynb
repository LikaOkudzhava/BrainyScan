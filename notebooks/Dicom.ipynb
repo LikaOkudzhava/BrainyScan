{
 "cells": [
  {
   "cell_type": "code",
   "execution_count": null,
   "id": "2fa3fe80",
   "metadata": {},
   "outputs": [
    {
     "name": "stdout",
     "output_type": "stream",
     "text": [
      "Collecting pillow\n",
      "  Downloading pillow-11.2.1-cp311-cp311-macosx_11_0_arm64.whl (3.0 MB)\n",
      "\u001b[2K     \u001b[90m━━━━━━━━━━━━━━━━━━━━━━━━━━━━━━━━━━━━━━━━\u001b[0m \u001b[32m3.0/3.0 MB\u001b[0m \u001b[31m19.6 MB/s\u001b[0m eta \u001b[36m0:00:00\u001b[0m00:01\u001b[0m00:01\u001b[0m\n",
      "\u001b[?25hInstalling collected packages: pillow\n",
      "Successfully installed pillow-11.2.1\n",
      "\n",
      "\u001b[1m[\u001b[0m\u001b[34;49mnotice\u001b[0m\u001b[1;39;49m]\u001b[0m\u001b[39;49m A new release of pip available: \u001b[0m\u001b[31;49m22.3.1\u001b[0m\u001b[39;49m -> \u001b[0m\u001b[32;49m25.1.1\u001b[0m\n",
      "\u001b[1m[\u001b[0m\u001b[34;49mnotice\u001b[0m\u001b[1;39;49m]\u001b[0m\u001b[39;49m To update, run: \u001b[0m\u001b[32;49mpip install --upgrade pip\u001b[0m\n",
      "Note: you may need to restart the kernel to use updated packages.\n"
     ]
    }
   ],
   "source": [
    "pip install pillow\n",
    "pip install pydicom"
   ]
  },
  {
   "cell_type": "code",
   "execution_count": null,
   "id": "ed575cb1",
   "metadata": {},
   "outputs": [],
   "source": [
    "import os\n",
    "from pydicom import dcmread\n",
    "from pydicom.data import get_testdata_file"
   ]
  },
  {
   "cell_type": "code",
   "execution_count": 3,
   "id": "70e08187",
   "metadata": {},
   "outputs": [],
   "source": [
    "dataset_dir = os.path.join('../', 'data', 'Alzheimer_dicom')"
   ]
  },
  {
   "cell_type": "code",
   "execution_count": null,
   "id": "52f3e8dc",
   "metadata": {},
   "outputs": [],
   "source": [
    "from PIL import Image\n",
    "import numpy as np\n",
    "\n",
    "output_dir = os.path.join(dataset_dir, 'jpeg')\n",
    "os.makedirs(output_dir, exist_ok=True)\n",
    "\n",
    "for label in ['AD', 'MCI', 'NC']:\n",
    "    label_dir = os.path.join(dataset_dir, label)\n",
    "    label_output_dir = os.path.join(output_dir, label)\n",
    "    os.makedirs(label_output_dir, exist_ok=True)\n",
    "    for filename in os.listdir(label_dir):\n",
    "        if filename.lower().endswith('.dcm'):\n",
    "            dcm_path = os.path.join(label_dir, filename)\n",
    "            ds = dcmread(dcm_path)\n",
    "            img_array = ds.pixel_array\n",
    "            img = Image.fromarray(img_array)\n",
    "            jpeg_filename = os.path.splitext(filename)[0] + '.jpg'\n",
    "            jpeg_path = os.path.join(label_output_dir, jpeg_filename)\n",
    "            img.save(jpeg_path)"
   ]
  },
  {
   "cell_type": "code",
   "execution_count": 7,
   "id": "fce6101e",
   "metadata": {},
   "outputs": [
    {
     "ename": "ModuleNotFoundError",
     "evalue": "No module named 'PIL'",
     "output_type": "error",
     "traceback": [
      "\u001b[31m---------------------------------------------------------------------------\u001b[39m",
      "\u001b[31mModuleNotFoundError\u001b[39m                       Traceback (most recent call last)",
      "\u001b[36mCell\u001b[39m\u001b[36m \u001b[39m\u001b[32mIn[7]\u001b[39m\u001b[32m, line 1\u001b[39m\n\u001b[32m----> \u001b[39m\u001b[32m1\u001b[39m \u001b[38;5;28;01mfrom\u001b[39;00m\u001b[38;5;250m \u001b[39m\u001b[34;01mPIL\u001b[39;00m\u001b[38;5;250m \u001b[39m\u001b[38;5;28;01mimport\u001b[39;00m Image\n\u001b[32m      2\u001b[39m \u001b[38;5;28;01mimport\u001b[39;00m\u001b[38;5;250m \u001b[39m\u001b[34;01mnumpy\u001b[39;00m\u001b[38;5;250m \u001b[39m\u001b[38;5;28;01mas\u001b[39;00m\u001b[38;5;250m \u001b[39m\u001b[34;01mnp\u001b[39;00m\n\u001b[32m      4\u001b[39m output_dir = os.path.join(dataset_dir, \u001b[33m'\u001b[39m\u001b[33mjpeg\u001b[39m\u001b[33m'\u001b[39m)\n",
      "\u001b[31mModuleNotFoundError\u001b[39m: No module named 'PIL'"
     ]
    }
   ],
   "source": [
    "from PIL import Image\n",
    "import numpy as np\n",
    "\n",
    "output_dir = os.path.join(dataset_dir, 'jpeg')\n",
    "\n",
    "for label in ['AD', 'MCI', 'NC']:\n",
    "    label_dir = os.path.join(dataset_dir, label)\n",
    "    label_output_dir = os.path.join(output_dir, label)\n",
    "    os.makedirs(label_output_dir, exist_ok=True)\n",
    "    for participant in os.listdir(label_dir):\n",
    "        participant_dir = os.path.join(label_dir, participant)\n",
    "        if os.path.isdir(participant_dir):\n",
    "            participant_output_dir = os.path.join(label_output_dir, participant)\n",
    "            os.makedirs(participant_output_dir, exist_ok=True)\n",
    "            for filename in os.listdir(participant_dir):\n",
    "                if filename.lower().endswith('.dcm'):\n",
    "                    dcm_path = os.path.join(participant_dir, filename)\n",
    "                    ds = dcmread(dcm_path)\n",
    "                    img_array = ds.pixel_array\n",
    "                    img = Image.fromarray(img_array)\n",
    "                    jpeg_filename = os.path.splitext(filename)[0] + '.jpg'\n",
    "                    jpeg_path = os.path.join(participant_output_dir, jpeg_filename)\n",
    "                    img.save(jpeg_path)\n"
   ]
  }
 ],
 "metadata": {
  "kernelspec": {
   "display_name": "Python 3",
   "language": "python",
   "name": "python3"
  },
  "language_info": {
   "codemirror_mode": {
    "name": "ipython",
    "version": 3
   },
   "file_extension": ".py",
   "mimetype": "text/x-python",
   "name": "python",
   "nbconvert_exporter": "python",
   "pygments_lexer": "ipython3",
   "version": "3.11.3"
  }
 },
 "nbformat": 4,
 "nbformat_minor": 5
}
