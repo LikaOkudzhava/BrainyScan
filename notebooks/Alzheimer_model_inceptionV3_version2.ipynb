{
  "cells": [
    {
      "cell_type": "markdown",
      "metadata": {
        "id": "view-in-github",
        "colab_type": "text"
      },
      "source": [
        "<a href=\"https://colab.research.google.com/github/LikaOkudzhava/BrainyScan/blob/InceptionV3/Alzheimer_model_inceptionV3_version2.ipynb\" target=\"_parent\"><img src=\"https://colab.research.google.com/assets/colab-badge.svg\" alt=\"Open In Colab\"/></a>"
      ]
    },
    {
      "cell_type": "code",
      "execution_count": 1,
      "metadata": {
        "colab": {
          "base_uri": "https://localhost:8080/"
        },
        "id": "saHrK7K9Q-Bt",
        "outputId": "33d537e9-9ed8-4f75-9df5-84623d57930d"
      },
      "outputs": [
        {
          "output_type": "stream",
          "name": "stdout",
          "text": [
            "Mounted at /content/drive\n"
          ]
        }
      ],
      "source": [
        "from google.colab import drive\n",
        "drive.mount('/content/drive')"
      ]
    },
    {
      "cell_type": "code",
      "execution_count": 3,
      "metadata": {
        "id": "oRfYA4mlQzww"
      },
      "outputs": [],
      "source": [
        "import os\n",
        "import cv2\n",
        "\n",
        "import seaborn as sns\n",
        "import matplotlib.pyplot as plt\n",
        "\n",
        "import numpy as np\n",
        "import pandas as pd\n",
        "\n",
        "from tqdm import tqdm\n",
        "\n",
        "import keras\n",
        "from keras.callbacks import EarlyStopping,ModelCheckpoint\n",
        "\n",
        "import tensorflow as tf\n",
        "from tensorflow.keras.preprocessing.image import ImageDataGenerator\n",
        "\n",
        "from sklearn.metrics import confusion_matrix\n",
        "from sklearn.metrics import classification_report\n",
        "\n",
        "import pandas as pd\n",
        "import matplotlib.pyplot as plt\n",
        "import seaborn as sns\n",
        "from sklearn.model_selection import train_test_split\n",
        "from sklearn.preprocessing import LabelEncoder\n",
        "from imblearn.over_sampling import SMOTE"
      ]
    },
    {
      "cell_type": "code",
      "execution_count": 3,
      "metadata": {
        "id": "uB1a8LF8RUgi"
      },
      "outputs": [],
      "source": [
        "import os\n",
        "\n",
        "import zipfile\n",
        "\n",
        "from google.colab import drive\n",
        "\n",
        "gdrive = '/content/drive'\n",
        "\n",
        "gdisk = os.path.join(gdrive, 'MyDrive')\n",
        "\n",
        "filename = 'smallpreprocessed'\n",
        "\n",
        "archive_path = os.path.join(gdisk, filename)\n",
        "\n",
        "with zipfile.ZipFile('/content/drive/MyDrive/AI/smallpreprocessed.zip', 'r') as zip_ref:\n",
        "\n",
        " zip_ref.extractall(f'{filename}')"
      ]
    },
    {
      "cell_type": "code",
      "execution_count": 4,
      "metadata": {
        "colab": {
          "base_uri": "https://localhost:8080/"
        },
        "id": "OaVcj5usQzw8",
        "outputId": "c0a0cbf5-7c95-4b69-db1e-f02f0313f145"
      },
      "outputs": [
        {
          "output_type": "stream",
          "name": "stdout",
          "text": [
            "Found 12000 files belonging to 4 classes.\n",
            "Found 2000 files belonging to 4 classes.\n",
            "Found 2000 files belonging to 4 classes.\n"
          ]
        }
      ],
      "source": [
        "dataset_dir = '/content/smallpreprocessed/data/SmallPreprocessed'\n",
        "image_height = 224\n",
        "image_width = 224\n",
        "batch_size = 16\n",
        "\n",
        "\n",
        "train_ds = tf.keras.utils.image_dataset_from_directory(\n",
        "    os.path.join(dataset_dir, 'train'),\n",
        "    labels = 'inferred',\n",
        "    label_mode = 'categorical',\n",
        "    image_size = (image_height, image_width),\n",
        "    batch_size = batch_size,\n",
        "    shuffle = True\n",
        ")\n",
        "\n",
        "test_ds = tf.keras.utils.image_dataset_from_directory(\n",
        "    os.path.join(dataset_dir, 'test'),\n",
        "    labels = 'inferred',\n",
        "    label_mode = 'categorical',\n",
        "    image_size = (image_height, image_width),\n",
        "    batch_size = batch_size,\n",
        "    shuffle = False\n",
        ")\n",
        "\n",
        "val_ds = tf.keras.utils.image_dataset_from_directory(\n",
        "    os.path.join(dataset_dir, 'val'),\n",
        "    labels = 'inferred',\n",
        "    label_mode = 'categorical',\n",
        "    image_size = (image_height, image_width),\n",
        "    batch_size = batch_size,\n",
        "    shuffle = True\n",
        ")\n",
        "\n",
        "for ds in [train_ds, test_ds, val_ds]:\n",
        "    ds.cache()\n",
        "    ds.prefetch(buffer_size=tf.data.AUTOTUNE)"
      ]
    },
    {
      "cell_type": "code",
      "execution_count": 5,
      "metadata": {
        "id": "7-E44jt4QzxA",
        "colab": {
          "base_uri": "https://localhost:8080/",
          "height": 474
        },
        "outputId": "c25b84bd-fbc6-4146-e29c-f375290db24c"
      },
      "outputs": [
        {
          "output_type": "stream",
          "name": "stdout",
          "text": [
            "Downloading data from https://storage.googleapis.com/tensorflow/keras-applications/inception_v3/inception_v3_weights_tf_dim_ordering_tf_kernels_notop.h5\n",
            "\u001b[1m87910968/87910968\u001b[0m \u001b[32m━━━━━━━━━━━━━━━━━━━━\u001b[0m\u001b[37m\u001b[0m \u001b[1m1s\u001b[0m 0us/step\n"
          ]
        },
        {
          "output_type": "display_data",
          "data": {
            "text/plain": [
              "\u001b[1mModel: \"sequential\"\u001b[0m\n"
            ],
            "text/html": [
              "<pre style=\"white-space:pre;overflow-x:auto;line-height:normal;font-family:Menlo,'DejaVu Sans Mono',consolas,'Courier New',monospace\"><span style=\"font-weight: bold\">Model: \"sequential\"</span>\n",
              "</pre>\n"
            ]
          },
          "metadata": {}
        },
        {
          "output_type": "display_data",
          "data": {
            "text/plain": [
              "┏━━━━━━━━━━━━━━━━━━━━━━━━━━━━━━━━━┳━━━━━━━━━━━━━━━━━━━━━━━━┳━━━━━━━━━━━━━━━┓\n",
              "┃\u001b[1m \u001b[0m\u001b[1mLayer (type)                   \u001b[0m\u001b[1m \u001b[0m┃\u001b[1m \u001b[0m\u001b[1mOutput Shape          \u001b[0m\u001b[1m \u001b[0m┃\u001b[1m \u001b[0m\u001b[1m      Param #\u001b[0m\u001b[1m \u001b[0m┃\n",
              "┡━━━━━━━━━━━━━━━━━━━━━━━━━━━━━━━━━╇━━━━━━━━━━━━━━━━━━━━━━━━╇━━━━━━━━━━━━━━━┩\n",
              "│ inception_v3 (\u001b[38;5;33mFunctional\u001b[0m)       │ (\u001b[38;5;45mNone\u001b[0m, \u001b[38;5;34m2048\u001b[0m)           │    \u001b[38;5;34m21,802,784\u001b[0m │\n",
              "├─────────────────────────────────┼────────────────────────┼───────────────┤\n",
              "│ flatten (\u001b[38;5;33mFlatten\u001b[0m)               │ (\u001b[38;5;45mNone\u001b[0m, \u001b[38;5;34m2048\u001b[0m)           │             \u001b[38;5;34m0\u001b[0m │\n",
              "├─────────────────────────────────┼────────────────────────┼───────────────┤\n",
              "│ batch_normalization_94          │ (\u001b[38;5;45mNone\u001b[0m, \u001b[38;5;34m2048\u001b[0m)           │         \u001b[38;5;34m8,192\u001b[0m │\n",
              "│ (\u001b[38;5;33mBatchNormalization\u001b[0m)            │                        │               │\n",
              "├─────────────────────────────────┼────────────────────────┼───────────────┤\n",
              "│ dense (\u001b[38;5;33mDense\u001b[0m)                   │ (\u001b[38;5;45mNone\u001b[0m, \u001b[38;5;34m2048\u001b[0m)           │     \u001b[38;5;34m4,196,352\u001b[0m │\n",
              "├─────────────────────────────────┼────────────────────────┼───────────────┤\n",
              "│ batch_normalization_95          │ (\u001b[38;5;45mNone\u001b[0m, \u001b[38;5;34m2048\u001b[0m)           │         \u001b[38;5;34m8,192\u001b[0m │\n",
              "│ (\u001b[38;5;33mBatchNormalization\u001b[0m)            │                        │               │\n",
              "├─────────────────────────────────┼────────────────────────┼───────────────┤\n",
              "│ dense_1 (\u001b[38;5;33mDense\u001b[0m)                 │ (\u001b[38;5;45mNone\u001b[0m, \u001b[38;5;34m1024\u001b[0m)           │     \u001b[38;5;34m2,098,176\u001b[0m │\n",
              "├─────────────────────────────────┼────────────────────────┼───────────────┤\n",
              "│ batch_normalization_96          │ (\u001b[38;5;45mNone\u001b[0m, \u001b[38;5;34m1024\u001b[0m)           │         \u001b[38;5;34m4,096\u001b[0m │\n",
              "│ (\u001b[38;5;33mBatchNormalization\u001b[0m)            │                        │               │\n",
              "├─────────────────────────────────┼────────────────────────┼───────────────┤\n",
              "│ dense_2 (\u001b[38;5;33mDense\u001b[0m)                 │ (\u001b[38;5;45mNone\u001b[0m, \u001b[38;5;34m4\u001b[0m)              │         \u001b[38;5;34m4,100\u001b[0m │\n",
              "└─────────────────────────────────┴────────────────────────┴───────────────┘\n"
            ],
            "text/html": [
              "<pre style=\"white-space:pre;overflow-x:auto;line-height:normal;font-family:Menlo,'DejaVu Sans Mono',consolas,'Courier New',monospace\">┏━━━━━━━━━━━━━━━━━━━━━━━━━━━━━━━━━┳━━━━━━━━━━━━━━━━━━━━━━━━┳━━━━━━━━━━━━━━━┓\n",
              "┃<span style=\"font-weight: bold\"> Layer (type)                    </span>┃<span style=\"font-weight: bold\"> Output Shape           </span>┃<span style=\"font-weight: bold\">       Param # </span>┃\n",
              "┡━━━━━━━━━━━━━━━━━━━━━━━━━━━━━━━━━╇━━━━━━━━━━━━━━━━━━━━━━━━╇━━━━━━━━━━━━━━━┩\n",
              "│ inception_v3 (<span style=\"color: #0087ff; text-decoration-color: #0087ff\">Functional</span>)       │ (<span style=\"color: #00d7ff; text-decoration-color: #00d7ff\">None</span>, <span style=\"color: #00af00; text-decoration-color: #00af00\">2048</span>)           │    <span style=\"color: #00af00; text-decoration-color: #00af00\">21,802,784</span> │\n",
              "├─────────────────────────────────┼────────────────────────┼───────────────┤\n",
              "│ flatten (<span style=\"color: #0087ff; text-decoration-color: #0087ff\">Flatten</span>)               │ (<span style=\"color: #00d7ff; text-decoration-color: #00d7ff\">None</span>, <span style=\"color: #00af00; text-decoration-color: #00af00\">2048</span>)           │             <span style=\"color: #00af00; text-decoration-color: #00af00\">0</span> │\n",
              "├─────────────────────────────────┼────────────────────────┼───────────────┤\n",
              "│ batch_normalization_94          │ (<span style=\"color: #00d7ff; text-decoration-color: #00d7ff\">None</span>, <span style=\"color: #00af00; text-decoration-color: #00af00\">2048</span>)           │         <span style=\"color: #00af00; text-decoration-color: #00af00\">8,192</span> │\n",
              "│ (<span style=\"color: #0087ff; text-decoration-color: #0087ff\">BatchNormalization</span>)            │                        │               │\n",
              "├─────────────────────────────────┼────────────────────────┼───────────────┤\n",
              "│ dense (<span style=\"color: #0087ff; text-decoration-color: #0087ff\">Dense</span>)                   │ (<span style=\"color: #00d7ff; text-decoration-color: #00d7ff\">None</span>, <span style=\"color: #00af00; text-decoration-color: #00af00\">2048</span>)           │     <span style=\"color: #00af00; text-decoration-color: #00af00\">4,196,352</span> │\n",
              "├─────────────────────────────────┼────────────────────────┼───────────────┤\n",
              "│ batch_normalization_95          │ (<span style=\"color: #00d7ff; text-decoration-color: #00d7ff\">None</span>, <span style=\"color: #00af00; text-decoration-color: #00af00\">2048</span>)           │         <span style=\"color: #00af00; text-decoration-color: #00af00\">8,192</span> │\n",
              "│ (<span style=\"color: #0087ff; text-decoration-color: #0087ff\">BatchNormalization</span>)            │                        │               │\n",
              "├─────────────────────────────────┼────────────────────────┼───────────────┤\n",
              "│ dense_1 (<span style=\"color: #0087ff; text-decoration-color: #0087ff\">Dense</span>)                 │ (<span style=\"color: #00d7ff; text-decoration-color: #00d7ff\">None</span>, <span style=\"color: #00af00; text-decoration-color: #00af00\">1024</span>)           │     <span style=\"color: #00af00; text-decoration-color: #00af00\">2,098,176</span> │\n",
              "├─────────────────────────────────┼────────────────────────┼───────────────┤\n",
              "│ batch_normalization_96          │ (<span style=\"color: #00d7ff; text-decoration-color: #00d7ff\">None</span>, <span style=\"color: #00af00; text-decoration-color: #00af00\">1024</span>)           │         <span style=\"color: #00af00; text-decoration-color: #00af00\">4,096</span> │\n",
              "│ (<span style=\"color: #0087ff; text-decoration-color: #0087ff\">BatchNormalization</span>)            │                        │               │\n",
              "├─────────────────────────────────┼────────────────────────┼───────────────┤\n",
              "│ dense_2 (<span style=\"color: #0087ff; text-decoration-color: #0087ff\">Dense</span>)                 │ (<span style=\"color: #00d7ff; text-decoration-color: #00d7ff\">None</span>, <span style=\"color: #00af00; text-decoration-color: #00af00\">4</span>)              │         <span style=\"color: #00af00; text-decoration-color: #00af00\">4,100</span> │\n",
              "└─────────────────────────────────┴────────────────────────┴───────────────┘\n",
              "</pre>\n"
            ]
          },
          "metadata": {}
        },
        {
          "output_type": "display_data",
          "data": {
            "text/plain": [
              "\u001b[1m Total params: \u001b[0m\u001b[38;5;34m28,121,892\u001b[0m (107.28 MB)\n"
            ],
            "text/html": [
              "<pre style=\"white-space:pre;overflow-x:auto;line-height:normal;font-family:Menlo,'DejaVu Sans Mono',consolas,'Courier New',monospace\"><span style=\"font-weight: bold\"> Total params: </span><span style=\"color: #00af00; text-decoration-color: #00af00\">28,121,892</span> (107.28 MB)\n",
              "</pre>\n"
            ]
          },
          "metadata": {}
        },
        {
          "output_type": "display_data",
          "data": {
            "text/plain": [
              "\u001b[1m Trainable params: \u001b[0m\u001b[38;5;34m6,308,868\u001b[0m (24.07 MB)\n"
            ],
            "text/html": [
              "<pre style=\"white-space:pre;overflow-x:auto;line-height:normal;font-family:Menlo,'DejaVu Sans Mono',consolas,'Courier New',monospace\"><span style=\"font-weight: bold\"> Trainable params: </span><span style=\"color: #00af00; text-decoration-color: #00af00\">6,308,868</span> (24.07 MB)\n",
              "</pre>\n"
            ]
          },
          "metadata": {}
        },
        {
          "output_type": "display_data",
          "data": {
            "text/plain": [
              "\u001b[1m Non-trainable params: \u001b[0m\u001b[38;5;34m21,813,024\u001b[0m (83.21 MB)\n"
            ],
            "text/html": [
              "<pre style=\"white-space:pre;overflow-x:auto;line-height:normal;font-family:Menlo,'DejaVu Sans Mono',consolas,'Courier New',monospace\"><span style=\"font-weight: bold\"> Non-trainable params: </span><span style=\"color: #00af00; text-decoration-color: #00af00\">21,813,024</span> (83.21 MB)\n",
              "</pre>\n"
            ]
          },
          "metadata": {}
        }
      ],
      "source": [
        "from tensorflow import keras\n",
        "import tensorflow as tf\n",
        "\n",
        "# Set image dimensions for InceptionV3\n",
        "image_height = 224\n",
        "image_width = 224\n",
        "\n",
        "# Define the model\n",
        "model = keras.models.Sequential()\n",
        "\n",
        "# Add InceptionV3 base model\n",
        "model.add(\n",
        "    tf.keras.applications.InceptionV3(\n",
        "        input_shape=(image_height, image_width, 3),\n",
        "        include_top=False,\n",
        "        pooling='avg',\n",
        "        weights='imagenet'\n",
        "    )\n",
        ")\n",
        "\n",
        "# Add custom classifier layers\n",
        "model.add(keras.layers.Flatten())\n",
        "model.add(keras.layers.BatchNormalization())\n",
        "model.add(keras.layers.Dense(2048, activation='relu'))\n",
        "model.add(keras.layers.BatchNormalization())\n",
        "model.add(keras.layers.Dense(1024, activation='relu'))\n",
        "model.add(keras.layers.BatchNormalization())\n",
        "model.add(keras.layers.Dense(4, activation='softmax'))  # 4 classes\n",
        "\n",
        "# Freeze base InceptionV3 layers\n",
        "model.layers[0].trainable = False\n",
        "\n",
        "# Build the model\n",
        "model.build(input_shape=(None, image_height, image_width, 3))\n",
        "model.summary()\n",
        "\n",
        "\n"
      ]
    },
    {
      "cell_type": "code",
      "source": [
        "# Unfreeze the last 3 layers of InceptionV3 base model\n",
        "base_model = model.layers[0]  # This is your InceptionV3 model\n",
        "\n",
        "# Set all layers to non-trainable first\n",
        "for layer in base_model.layers:\n",
        "    layer.trainable = False\n",
        "\n",
        "# Then unfreeze the last 3 layers\n",
        "for layer in base_model.layers[-3:]:\n",
        "    layer.trainable = True"
      ],
      "metadata": {
        "id": "SOACOTC2z_2g"
      },
      "execution_count": 6,
      "outputs": []
    },
    {
      "cell_type": "code",
      "execution_count": 7,
      "metadata": {
        "id": "cd-UDOZcQzxD"
      },
      "outputs": [],
      "source": [
        "from tensorflow.keras.callbacks import ModelCheckpoint, EarlyStopping\n",
        "\n",
        "# Model Checkpoint - save only the best model\n",
        "checkpoint_cb = ModelCheckpoint(\n",
        "    \"model_InceptionV3.keras\",  # Updated filename\n",
        "    save_best_only=True\n",
        ")\n",
        "\n",
        "# Early Stopping - stop if no improvement for 10 epochs\n",
        "early_stopping_cb = EarlyStopping(\n",
        "    patience=10,\n",
        "    restore_best_weights=True\n",
        ")\n",
        "\n",
        "# Compile the model\n",
        "model.compile(\n",
        "    optimizer=tf.keras.optimizers.Adam(1e-5),\n",
        "    loss='categorical_crossentropy',\n",
        "    metrics=['accuracy']\n",
        ")\n"
      ]
    },
    {
      "cell_type": "code",
      "execution_count": 8,
      "metadata": {
        "id": "gWSAdkheQzxE"
      },
      "outputs": [],
      "source": [
        "EPOCHS = 25"
      ]
    },
    {
      "cell_type": "code",
      "execution_count": 9,
      "metadata": {
        "colab": {
          "base_uri": "https://localhost:8080/"
        },
        "id": "0B5UpPXlQzxF",
        "outputId": "197add87-fc20-46c2-91aa-030a12e1965d"
      },
      "outputs": [
        {
          "output_type": "stream",
          "name": "stdout",
          "text": [
            "Epoch 1/25\n",
            "\u001b[1m750/750\u001b[0m \u001b[32m━━━━━━━━━━━━━━━━━━━━\u001b[0m\u001b[37m\u001b[0m \u001b[1m59s\u001b[0m 54ms/step - accuracy: 0.4445 - loss: 1.3620 - val_accuracy: 0.6330 - val_loss: 0.9346\n",
            "Epoch 2/25\n",
            "\u001b[1m750/750\u001b[0m \u001b[32m━━━━━━━━━━━━━━━━━━━━\u001b[0m\u001b[37m\u001b[0m \u001b[1m34s\u001b[0m 45ms/step - accuracy: 0.6166 - loss: 0.9150 - val_accuracy: 0.6885 - val_loss: 0.7995\n",
            "Epoch 3/25\n",
            "\u001b[1m750/750\u001b[0m \u001b[32m━━━━━━━━━━━━━━━━━━━━\u001b[0m\u001b[37m\u001b[0m \u001b[1m40s\u001b[0m 44ms/step - accuracy: 0.6867 - loss: 0.7769 - val_accuracy: 0.7125 - val_loss: 0.7375\n",
            "Epoch 4/25\n",
            "\u001b[1m750/750\u001b[0m \u001b[32m━━━━━━━━━━━━━━━━━━━━\u001b[0m\u001b[37m\u001b[0m \u001b[1m41s\u001b[0m 44ms/step - accuracy: 0.7268 - loss: 0.6822 - val_accuracy: 0.7385 - val_loss: 0.6786\n",
            "Epoch 5/25\n",
            "\u001b[1m750/750\u001b[0m \u001b[32m━━━━━━━━━━━━━━━━━━━━\u001b[0m\u001b[37m\u001b[0m \u001b[1m34s\u001b[0m 45ms/step - accuracy: 0.7631 - loss: 0.6084 - val_accuracy: 0.7415 - val_loss: 0.6497\n",
            "Epoch 6/25\n",
            "\u001b[1m750/750\u001b[0m \u001b[32m━━━━━━━━━━━━━━━━━━━━\u001b[0m\u001b[37m\u001b[0m \u001b[1m33s\u001b[0m 44ms/step - accuracy: 0.7888 - loss: 0.5598 - val_accuracy: 0.7565 - val_loss: 0.6179\n",
            "Epoch 7/25\n",
            "\u001b[1m750/750\u001b[0m \u001b[32m━━━━━━━━━━━━━━━━━━━━\u001b[0m\u001b[37m\u001b[0m \u001b[1m43s\u001b[0m 46ms/step - accuracy: 0.8074 - loss: 0.5025 - val_accuracy: 0.7735 - val_loss: 0.5878\n",
            "Epoch 8/25\n",
            "\u001b[1m750/750\u001b[0m \u001b[32m━━━━━━━━━━━━━━━━━━━━\u001b[0m\u001b[37m\u001b[0m \u001b[1m35s\u001b[0m 46ms/step - accuracy: 0.8214 - loss: 0.4769 - val_accuracy: 0.7795 - val_loss: 0.5670\n",
            "Epoch 9/25\n",
            "\u001b[1m750/750\u001b[0m \u001b[32m━━━━━━━━━━━━━━━━━━━━\u001b[0m\u001b[37m\u001b[0m \u001b[1m41s\u001b[0m 46ms/step - accuracy: 0.8380 - loss: 0.4412 - val_accuracy: 0.7880 - val_loss: 0.5553\n",
            "Epoch 10/25\n",
            "\u001b[1m750/750\u001b[0m \u001b[32m━━━━━━━━━━━━━━━━━━━━\u001b[0m\u001b[37m\u001b[0m \u001b[1m34s\u001b[0m 45ms/step - accuracy: 0.8526 - loss: 0.4065 - val_accuracy: 0.7995 - val_loss: 0.5370\n",
            "Epoch 11/25\n",
            "\u001b[1m750/750\u001b[0m \u001b[32m━━━━━━━━━━━━━━━━━━━━\u001b[0m\u001b[37m\u001b[0m \u001b[1m42s\u001b[0m 47ms/step - accuracy: 0.8675 - loss: 0.3738 - val_accuracy: 0.8060 - val_loss: 0.5347\n",
            "Epoch 12/25\n",
            "\u001b[1m750/750\u001b[0m \u001b[32m━━━━━━━━━━━━━━━━━━━━\u001b[0m\u001b[37m\u001b[0m \u001b[1m41s\u001b[0m 46ms/step - accuracy: 0.8769 - loss: 0.3541 - val_accuracy: 0.8000 - val_loss: 0.5265\n",
            "Epoch 13/25\n",
            "\u001b[1m750/750\u001b[0m \u001b[32m━━━━━━━━━━━━━━━━━━━━\u001b[0m\u001b[37m\u001b[0m \u001b[1m34s\u001b[0m 45ms/step - accuracy: 0.8889 - loss: 0.3295 - val_accuracy: 0.8180 - val_loss: 0.5021\n",
            "Epoch 14/25\n",
            "\u001b[1m750/750\u001b[0m \u001b[32m━━━━━━━━━━━━━━━━━━━━\u001b[0m\u001b[37m\u001b[0m \u001b[1m43s\u001b[0m 47ms/step - accuracy: 0.8927 - loss: 0.3093 - val_accuracy: 0.8125 - val_loss: 0.4937\n",
            "Epoch 15/25\n",
            "\u001b[1m750/750\u001b[0m \u001b[32m━━━━━━━━━━━━━━━━━━━━\u001b[0m\u001b[37m\u001b[0m \u001b[1m40s\u001b[0m 46ms/step - accuracy: 0.8992 - loss: 0.2985 - val_accuracy: 0.8125 - val_loss: 0.4843\n",
            "Epoch 16/25\n",
            "\u001b[1m750/750\u001b[0m \u001b[32m━━━━━━━━━━━━━━━━━━━━\u001b[0m\u001b[37m\u001b[0m \u001b[1m41s\u001b[0m 47ms/step - accuracy: 0.9085 - loss: 0.2772 - val_accuracy: 0.8180 - val_loss: 0.4810\n",
            "Epoch 17/25\n",
            "\u001b[1m750/750\u001b[0m \u001b[32m━━━━━━━━━━━━━━━━━━━━\u001b[0m\u001b[37m\u001b[0m \u001b[1m40s\u001b[0m 45ms/step - accuracy: 0.9135 - loss: 0.2605 - val_accuracy: 0.8340 - val_loss: 0.4765\n",
            "Epoch 18/25\n",
            "\u001b[1m750/750\u001b[0m \u001b[32m━━━━━━━━━━━━━━━━━━━━\u001b[0m\u001b[37m\u001b[0m \u001b[1m33s\u001b[0m 44ms/step - accuracy: 0.9172 - loss: 0.2485 - val_accuracy: 0.8260 - val_loss: 0.4862\n",
            "Epoch 19/25\n",
            "\u001b[1m750/750\u001b[0m \u001b[32m━━━━━━━━━━━━━━━━━━━━\u001b[0m\u001b[37m\u001b[0m \u001b[1m43s\u001b[0m 47ms/step - accuracy: 0.9262 - loss: 0.2271 - val_accuracy: 0.8375 - val_loss: 0.4639\n",
            "Epoch 20/25\n",
            "\u001b[1m750/750\u001b[0m \u001b[32m━━━━━━━━━━━━━━━━━━━━\u001b[0m\u001b[37m\u001b[0m \u001b[1m32s\u001b[0m 43ms/step - accuracy: 0.9344 - loss: 0.2125 - val_accuracy: 0.8435 - val_loss: 0.4688\n",
            "Epoch 21/25\n",
            "\u001b[1m750/750\u001b[0m \u001b[32m━━━━━━━━━━━━━━━━━━━━\u001b[0m\u001b[37m\u001b[0m \u001b[1m43s\u001b[0m 46ms/step - accuracy: 0.9352 - loss: 0.2127 - val_accuracy: 0.8405 - val_loss: 0.4638\n",
            "Epoch 22/25\n",
            "\u001b[1m750/750\u001b[0m \u001b[32m━━━━━━━━━━━━━━━━━━━━\u001b[0m\u001b[37m\u001b[0m \u001b[1m39s\u001b[0m 43ms/step - accuracy: 0.9379 - loss: 0.2043 - val_accuracy: 0.8365 - val_loss: 0.4682\n",
            "Epoch 23/25\n",
            "\u001b[1m750/750\u001b[0m \u001b[32m━━━━━━━━━━━━━━━━━━━━\u001b[0m\u001b[37m\u001b[0m \u001b[1m34s\u001b[0m 45ms/step - accuracy: 0.9420 - loss: 0.1913 - val_accuracy: 0.8455 - val_loss: 0.4571\n",
            "Epoch 24/25\n",
            "\u001b[1m750/750\u001b[0m \u001b[32m━━━━━━━━━━━━━━━━━━━━\u001b[0m\u001b[37m\u001b[0m \u001b[1m34s\u001b[0m 45ms/step - accuracy: 0.9423 - loss: 0.1793 - val_accuracy: 0.8465 - val_loss: 0.4519\n",
            "Epoch 25/25\n",
            "\u001b[1m750/750\u001b[0m \u001b[32m━━━━━━━━━━━━━━━━━━━━\u001b[0m\u001b[37m\u001b[0m \u001b[1m35s\u001b[0m 46ms/step - accuracy: 0.9451 - loss: 0.1700 - val_accuracy: 0.8465 - val_loss: 0.4489\n"
          ]
        }
      ],
      "source": [
        "\n",
        "history = model.fit(\n",
        "    train_ds,\n",
        "    epochs=EPOCHS,\n",
        "    validation_data=val_ds,\n",
        "    callbacks=[checkpoint_cb, early_stopping_cb]\n",
        ")\n",
        "\n"
      ]
    },
    {
      "cell_type": "code",
      "execution_count": 10,
      "metadata": {
        "colab": {
          "base_uri": "https://localhost:8080/"
        },
        "id": "yUh4ktTVQzxH",
        "outputId": "29bbdfd8-7c23-4f55-89b9-836dc461004f"
      },
      "outputs": [
        {
          "output_type": "stream",
          "name": "stdout",
          "text": [
            "Saved artifact at '/content/models/inceptionV3_model'. The following endpoints are available:\n",
            "\n",
            "* Endpoint 'serve'\n",
            "  args_0 (POSITIONAL_ONLY): TensorSpec(shape=(None, 224, 224, 3), dtype=tf.float32, name='keras_tensor_312')\n",
            "Output Type:\n",
            "  TensorSpec(shape=(None, 4), dtype=tf.float32, name=None)\n",
            "Captures:\n",
            "  133522224669776: TensorSpec(shape=(), dtype=tf.resource, name=None)\n",
            "  133522224669584: TensorSpec(shape=(), dtype=tf.resource, name=None)\n",
            "  133522224670352: TensorSpec(shape=(), dtype=tf.resource, name=None)\n",
            "  133522224672272: TensorSpec(shape=(), dtype=tf.resource, name=None)\n",
            "  133522224673040: TensorSpec(shape=(), dtype=tf.resource, name=None)\n",
            "  133522224669392: TensorSpec(shape=(), dtype=tf.resource, name=None)\n",
            "  133522224672848: TensorSpec(shape=(), dtype=tf.resource, name=None)\n",
            "  133522224673616: TensorSpec(shape=(), dtype=tf.resource, name=None)\n",
            "  133522224672656: TensorSpec(shape=(), dtype=tf.resource, name=None)\n",
            "  133522224674192: TensorSpec(shape=(), dtype=tf.resource, name=None)\n",
            "  133522224675344: TensorSpec(shape=(), dtype=tf.resource, name=None)\n",
            "  133522224674384: TensorSpec(shape=(), dtype=tf.resource, name=None)\n",
            "  133522244453008: TensorSpec(shape=(), dtype=tf.resource, name=None)\n",
            "  133522244453200: TensorSpec(shape=(), dtype=tf.resource, name=None)\n",
            "  133522244454352: TensorSpec(shape=(), dtype=tf.resource, name=None)\n",
            "  133522244454544: TensorSpec(shape=(), dtype=tf.resource, name=None)\n",
            "  133522244455504: TensorSpec(shape=(), dtype=tf.resource, name=None)\n",
            "  133522244454736: TensorSpec(shape=(), dtype=tf.resource, name=None)\n",
            "  133522244455120: TensorSpec(shape=(), dtype=tf.resource, name=None)\n",
            "  133522244455696: TensorSpec(shape=(), dtype=tf.resource, name=None)\n",
            "  133522244458192: TensorSpec(shape=(), dtype=tf.resource, name=None)\n",
            "  133522244458576: TensorSpec(shape=(), dtype=tf.resource, name=None)\n",
            "  133522244462608: TensorSpec(shape=(), dtype=tf.resource, name=None)\n",
            "  133522244462800: TensorSpec(shape=(), dtype=tf.resource, name=None)\n",
            "  133522244461264: TensorSpec(shape=(), dtype=tf.resource, name=None)\n",
            "  133522244458960: TensorSpec(shape=(), dtype=tf.resource, name=None)\n",
            "  133522244462032: TensorSpec(shape=(), dtype=tf.resource, name=None)\n",
            "  133522244464336: TensorSpec(shape=(), dtype=tf.resource, name=None)\n",
            "  133522244464528: TensorSpec(shape=(), dtype=tf.resource, name=None)\n",
            "  133522244453776: TensorSpec(shape=(), dtype=tf.resource, name=None)\n",
            "  133522244459344: TensorSpec(shape=(), dtype=tf.resource, name=None)\n",
            "  133522244459536: TensorSpec(shape=(), dtype=tf.resource, name=None)\n",
            "  133522244467024: TensorSpec(shape=(), dtype=tf.resource, name=None)\n",
            "  133522244465488: TensorSpec(shape=(), dtype=tf.resource, name=None)\n",
            "  133522244460496: TensorSpec(shape=(), dtype=tf.resource, name=None)\n",
            "  133522244457424: TensorSpec(shape=(), dtype=tf.resource, name=None)\n",
            "  133522244463376: TensorSpec(shape=(), dtype=tf.resource, name=None)\n",
            "  133522244467408: TensorSpec(shape=(), dtype=tf.resource, name=None)\n",
            "  133522244467600: TensorSpec(shape=(), dtype=tf.resource, name=None)\n",
            "  133522244462992: TensorSpec(shape=(), dtype=tf.resource, name=None)\n",
            "  133522244465872: TensorSpec(shape=(), dtype=tf.resource, name=None)\n",
            "  133522244466064: TensorSpec(shape=(), dtype=tf.resource, name=None)\n",
            "  133522244453968: TensorSpec(shape=(), dtype=tf.resource, name=None)\n",
            "  133522244460880: TensorSpec(shape=(), dtype=tf.resource, name=None)\n",
            "  133522244461072: TensorSpec(shape=(), dtype=tf.resource, name=None)\n",
            "  133522244455888: TensorSpec(shape=(), dtype=tf.resource, name=None)\n",
            "  133522244457808: TensorSpec(shape=(), dtype=tf.resource, name=None)\n",
            "  133522244458000: TensorSpec(shape=(), dtype=tf.resource, name=None)\n",
            "  133522244931984: TensorSpec(shape=(), dtype=tf.resource, name=None)\n",
            "  133522244928720: TensorSpec(shape=(), dtype=tf.resource, name=None)\n",
            "  133522244932368: TensorSpec(shape=(), dtype=tf.resource, name=None)\n",
            "  133522244932560: TensorSpec(shape=(), dtype=tf.resource, name=None)\n",
            "  133522244933520: TensorSpec(shape=(), dtype=tf.resource, name=None)\n",
            "  133522244927952: TensorSpec(shape=(), dtype=tf.resource, name=None)\n",
            "  133522244929680: TensorSpec(shape=(), dtype=tf.resource, name=None)\n",
            "  133522244933904: TensorSpec(shape=(), dtype=tf.resource, name=None)\n",
            "  133522244934096: TensorSpec(shape=(), dtype=tf.resource, name=None)\n",
            "  133522244928144: TensorSpec(shape=(), dtype=tf.resource, name=None)\n",
            "  133522244929296: TensorSpec(shape=(), dtype=tf.resource, name=None)\n",
            "  133522244929488: TensorSpec(shape=(), dtype=tf.resource, name=None)\n",
            "  133522244936592: TensorSpec(shape=(), dtype=tf.resource, name=None)\n",
            "  133522244935056: TensorSpec(shape=(), dtype=tf.resource, name=None)\n",
            "  133522244930448: TensorSpec(shape=(), dtype=tf.resource, name=None)\n",
            "  133522244468560: TensorSpec(shape=(), dtype=tf.resource, name=None)\n",
            "  133522244932752: TensorSpec(shape=(), dtype=tf.resource, name=None)\n",
            "  133522244936976: TensorSpec(shape=(), dtype=tf.resource, name=None)\n",
            "  133522244937168: TensorSpec(shape=(), dtype=tf.resource, name=None)\n",
            "  133522244931216: TensorSpec(shape=(), dtype=tf.resource, name=None)\n",
            "  133522244935440: TensorSpec(shape=(), dtype=tf.resource, name=None)\n",
            "  133522244935632: TensorSpec(shape=(), dtype=tf.resource, name=None)\n",
            "  133522244928528: TensorSpec(shape=(), dtype=tf.resource, name=None)\n",
            "  133522244930832: TensorSpec(shape=(), dtype=tf.resource, name=None)\n",
            "  133522244931024: TensorSpec(shape=(), dtype=tf.resource, name=None)\n",
            "  133522244467792: TensorSpec(shape=(), dtype=tf.resource, name=None)\n",
            "  133522244464720: TensorSpec(shape=(), dtype=tf.resource, name=None)\n",
            "  133522244468176: TensorSpec(shape=(), dtype=tf.resource, name=None)\n",
            "  133522244942736: TensorSpec(shape=(), dtype=tf.resource, name=None)\n",
            "  133522244938896: TensorSpec(shape=(), dtype=tf.resource, name=None)\n",
            "  133522244942352: TensorSpec(shape=(), dtype=tf.resource, name=None)\n",
            "  133522244943312: TensorSpec(shape=(), dtype=tf.resource, name=None)\n",
            "  133522244940816: TensorSpec(shape=(), dtype=tf.resource, name=None)\n",
            "  133522244939664: TensorSpec(shape=(), dtype=tf.resource, name=None)\n",
            "  133522215240720: TensorSpec(shape=(), dtype=tf.resource, name=None)\n",
            "  133522215239760: TensorSpec(shape=(), dtype=tf.resource, name=None)\n",
            "  133522244943504: TensorSpec(shape=(), dtype=tf.resource, name=None)\n",
            "  133522244935824: TensorSpec(shape=(), dtype=tf.resource, name=None)\n",
            "  133522244940048: TensorSpec(shape=(), dtype=tf.resource, name=None)\n",
            "  133522244940240: TensorSpec(shape=(), dtype=tf.resource, name=None)\n",
            "  133522215243216: TensorSpec(shape=(), dtype=tf.resource, name=None)\n",
            "  133522215241680: TensorSpec(shape=(), dtype=tf.resource, name=None)\n",
            "  133522244941200: TensorSpec(shape=(), dtype=tf.resource, name=None)\n",
            "  133522244938128: TensorSpec(shape=(), dtype=tf.resource, name=None)\n",
            "  133522215240528: TensorSpec(shape=(), dtype=tf.resource, name=None)\n",
            "  133522215243600: TensorSpec(shape=(), dtype=tf.resource, name=None)\n",
            "  133522215243792: TensorSpec(shape=(), dtype=tf.resource, name=None)\n",
            "  133522215240144: TensorSpec(shape=(), dtype=tf.resource, name=None)\n",
            "  133522215242064: TensorSpec(shape=(), dtype=tf.resource, name=None)\n",
            "  133522215242256: TensorSpec(shape=(), dtype=tf.resource, name=None)\n",
            "  133522244937360: TensorSpec(shape=(), dtype=tf.resource, name=None)\n",
            "  133522244941584: TensorSpec(shape=(), dtype=tf.resource, name=None)\n",
            "  133522244941776: TensorSpec(shape=(), dtype=tf.resource, name=None)\n",
            "  133522244934288: TensorSpec(shape=(), dtype=tf.resource, name=None)\n",
            "  133522244938512: TensorSpec(shape=(), dtype=tf.resource, name=None)\n",
            "  133522244938704: TensorSpec(shape=(), dtype=tf.resource, name=None)\n",
            "  133522215246288: TensorSpec(shape=(), dtype=tf.resource, name=None)\n",
            "  133522215242448: TensorSpec(shape=(), dtype=tf.resource, name=None)\n",
            "  133522215246672: TensorSpec(shape=(), dtype=tf.resource, name=None)\n",
            "  133522215246864: TensorSpec(shape=(), dtype=tf.resource, name=None)\n",
            "  133522215247824: TensorSpec(shape=(), dtype=tf.resource, name=None)\n",
            "  133522215243984: TensorSpec(shape=(), dtype=tf.resource, name=None)\n",
            "  133522215248208: TensorSpec(shape=(), dtype=tf.resource, name=None)\n",
            "  133522215248400: TensorSpec(shape=(), dtype=tf.resource, name=None)\n",
            "  133522215249360: TensorSpec(shape=(), dtype=tf.resource, name=None)\n",
            "  133522215244752: TensorSpec(shape=(), dtype=tf.resource, name=None)\n",
            "  133522215245520: TensorSpec(shape=(), dtype=tf.resource, name=None)\n",
            "  133522215249744: TensorSpec(shape=(), dtype=tf.resource, name=None)\n",
            "  133522215249936: TensorSpec(shape=(), dtype=tf.resource, name=None)\n",
            "  133522215240912: TensorSpec(shape=(), dtype=tf.resource, name=None)\n",
            "  133522215245136: TensorSpec(shape=(), dtype=tf.resource, name=None)\n",
            "  133522215245328: TensorSpec(shape=(), dtype=tf.resource, name=None)\n",
            "  133522215255888: TensorSpec(shape=(), dtype=tf.resource, name=None)\n",
            "  133522215715088: TensorSpec(shape=(), dtype=tf.resource, name=None)\n",
            "  133522215716240: TensorSpec(shape=(), dtype=tf.resource, name=None)\n",
            "  133522215716048: TensorSpec(shape=(), dtype=tf.resource, name=None)\n",
            "  133522215717392: TensorSpec(shape=(), dtype=tf.resource, name=None)\n",
            "  133522215715856: TensorSpec(shape=(), dtype=tf.resource, name=None)\n",
            "  133522215717776: TensorSpec(shape=(), dtype=tf.resource, name=None)\n",
            "  133522215717968: TensorSpec(shape=(), dtype=tf.resource, name=None)\n",
            "  133522215718928: TensorSpec(shape=(), dtype=tf.resource, name=None)\n",
            "  133522215252432: TensorSpec(shape=(), dtype=tf.resource, name=None)\n",
            "  133522215715472: TensorSpec(shape=(), dtype=tf.resource, name=None)\n",
            "  133522215719312: TensorSpec(shape=(), dtype=tf.resource, name=None)\n",
            "  133522215719504: TensorSpec(shape=(), dtype=tf.resource, name=None)\n",
            "  133522215248592: TensorSpec(shape=(), dtype=tf.resource, name=None)\n",
            "  133522215252816: TensorSpec(shape=(), dtype=tf.resource, name=None)\n",
            "  133522215253008: TensorSpec(shape=(), dtype=tf.resource, name=None)\n",
            "  133522215720464: TensorSpec(shape=(), dtype=tf.resource, name=None)\n",
            "  133522215253968: TensorSpec(shape=(), dtype=tf.resource, name=None)\n",
            "  133522215715280: TensorSpec(shape=(), dtype=tf.resource, name=None)\n",
            "  133522215720848: TensorSpec(shape=(), dtype=tf.resource, name=None)\n",
            "  133522215721040: TensorSpec(shape=(), dtype=tf.resource, name=None)\n",
            "  133522215250128: TensorSpec(shape=(), dtype=tf.resource, name=None)\n",
            "  133522215254352: TensorSpec(shape=(), dtype=tf.resource, name=None)\n",
            "  133522215254544: TensorSpec(shape=(), dtype=tf.resource, name=None)\n",
            "  133522215723536: TensorSpec(shape=(), dtype=tf.resource, name=None)\n",
            "  133522215722000: TensorSpec(shape=(), dtype=tf.resource, name=None)\n",
            "  133522215255504: TensorSpec(shape=(), dtype=tf.resource, name=None)\n",
            "  133522215250896: TensorSpec(shape=(), dtype=tf.resource, name=None)\n",
            "  133522215719696: TensorSpec(shape=(), dtype=tf.resource, name=None)\n",
            "  133522215723920: TensorSpec(shape=(), dtype=tf.resource, name=None)\n",
            "  133522215724112: TensorSpec(shape=(), dtype=tf.resource, name=None)\n",
            "  133522215718160: TensorSpec(shape=(), dtype=tf.resource, name=None)\n",
            "  133522215722384: TensorSpec(shape=(), dtype=tf.resource, name=None)\n",
            "  133522215722576: TensorSpec(shape=(), dtype=tf.resource, name=None)\n",
            "  133522215254736: TensorSpec(shape=(), dtype=tf.resource, name=None)\n",
            "  133522215253200: TensorSpec(shape=(), dtype=tf.resource, name=None)\n",
            "  133522215255696: TensorSpec(shape=(), dtype=tf.resource, name=None)\n",
            "  133522215247056: TensorSpec(shape=(), dtype=tf.resource, name=None)\n",
            "  133522215251280: TensorSpec(shape=(), dtype=tf.resource, name=None)\n",
            "  133522215251472: TensorSpec(shape=(), dtype=tf.resource, name=None)\n",
            "  133522215730832: TensorSpec(shape=(), dtype=tf.resource, name=None)\n",
            "  133522215727376: TensorSpec(shape=(), dtype=tf.resource, name=None)\n",
            "  133522214158800: TensorSpec(shape=(), dtype=tf.resource, name=None)\n",
            "  133522215729296: TensorSpec(shape=(), dtype=tf.resource, name=None)\n",
            "  133522214159952: TensorSpec(shape=(), dtype=tf.resource, name=None)\n",
            "  133522214158416: TensorSpec(shape=(), dtype=tf.resource, name=None)\n",
            "  133522214160336: TensorSpec(shape=(), dtype=tf.resource, name=None)\n",
            "  133522214160528: TensorSpec(shape=(), dtype=tf.resource, name=None)\n",
            "  133522214161488: TensorSpec(shape=(), dtype=tf.resource, name=None)\n",
            "  133522215726608: TensorSpec(shape=(), dtype=tf.resource, name=None)\n",
            "  133522214159568: TensorSpec(shape=(), dtype=tf.resource, name=None)\n",
            "  133522214161872: TensorSpec(shape=(), dtype=tf.resource, name=None)\n",
            "  133522214162064: TensorSpec(shape=(), dtype=tf.resource, name=None)\n",
            "  133522215722768: TensorSpec(shape=(), dtype=tf.resource, name=None)\n",
            "  133522215726992: TensorSpec(shape=(), dtype=tf.resource, name=None)\n",
            "  133522215727184: TensorSpec(shape=(), dtype=tf.resource, name=None)\n",
            "  133522214163024: TensorSpec(shape=(), dtype=tf.resource, name=None)\n",
            "  133522215728144: TensorSpec(shape=(), dtype=tf.resource, name=None)\n",
            "  133522214159376: TensorSpec(shape=(), dtype=tf.resource, name=None)\n",
            "  133522214163408: TensorSpec(shape=(), dtype=tf.resource, name=None)\n",
            "  133522214163600: TensorSpec(shape=(), dtype=tf.resource, name=None)\n",
            "  133522215724304: TensorSpec(shape=(), dtype=tf.resource, name=None)\n",
            "  133522215728528: TensorSpec(shape=(), dtype=tf.resource, name=None)\n",
            "  133522215728720: TensorSpec(shape=(), dtype=tf.resource, name=None)\n",
            "  133522214166096: TensorSpec(shape=(), dtype=tf.resource, name=None)\n",
            "  133522214164560: TensorSpec(shape=(), dtype=tf.resource, name=None)\n",
            "  133522215729680: TensorSpec(shape=(), dtype=tf.resource, name=None)\n",
            "  133522215725072: TensorSpec(shape=(), dtype=tf.resource, name=None)\n",
            "  133522214162256: TensorSpec(shape=(), dtype=tf.resource, name=None)\n",
            "  133522214166480: TensorSpec(shape=(), dtype=tf.resource, name=None)\n",
            "  133522214166672: TensorSpec(shape=(), dtype=tf.resource, name=None)\n",
            "  133522214160720: TensorSpec(shape=(), dtype=tf.resource, name=None)\n",
            "  133522214164944: TensorSpec(shape=(), dtype=tf.resource, name=None)\n",
            "  133522214165136: TensorSpec(shape=(), dtype=tf.resource, name=None)\n",
            "  133522215725840: TensorSpec(shape=(), dtype=tf.resource, name=None)\n",
            "  133522215728912: TensorSpec(shape=(), dtype=tf.resource, name=None)\n",
            "  133522215729872: TensorSpec(shape=(), dtype=tf.resource, name=None)\n",
            "  133522215721232: TensorSpec(shape=(), dtype=tf.resource, name=None)\n",
            "  133522215725456: TensorSpec(shape=(), dtype=tf.resource, name=None)\n",
            "  133522215725648: TensorSpec(shape=(), dtype=tf.resource, name=None)\n",
            "  133522214173776: TensorSpec(shape=(), dtype=tf.resource, name=None)\n",
            "  133522214169936: TensorSpec(shape=(), dtype=tf.resource, name=None)\n",
            "  133522214173392: TensorSpec(shape=(), dtype=tf.resource, name=None)\n",
            "  133522214174352: TensorSpec(shape=(), dtype=tf.resource, name=None)\n",
            "  133522214173008: TensorSpec(shape=(), dtype=tf.resource, name=None)\n",
            "  133522214684048: TensorSpec(shape=(), dtype=tf.resource, name=None)\n",
            "  133522214683664: TensorSpec(shape=(), dtype=tf.resource, name=None)\n",
            "  133522214171472: TensorSpec(shape=(), dtype=tf.resource, name=None)\n",
            "  133522214684816: TensorSpec(shape=(), dtype=tf.resource, name=None)\n",
            "  133522214169168: TensorSpec(shape=(), dtype=tf.resource, name=None)\n",
            "  133522214683856: TensorSpec(shape=(), dtype=tf.resource, name=None)\n",
            "  133522214685200: TensorSpec(shape=(), dtype=tf.resource, name=None)\n",
            "  133522214685392: TensorSpec(shape=(), dtype=tf.resource, name=None)\n",
            "  133522214165328: TensorSpec(shape=(), dtype=tf.resource, name=None)\n",
            "  133522214169552: TensorSpec(shape=(), dtype=tf.resource, name=None)\n",
            "  133522214169744: TensorSpec(shape=(), dtype=tf.resource, name=None)\n",
            "  133522214686352: TensorSpec(shape=(), dtype=tf.resource, name=None)\n",
            "  133522214170704: TensorSpec(shape=(), dtype=tf.resource, name=None)\n",
            "  133522214683088: TensorSpec(shape=(), dtype=tf.resource, name=None)\n",
            "  133522214686736: TensorSpec(shape=(), dtype=tf.resource, name=None)\n",
            "  133522214686928: TensorSpec(shape=(), dtype=tf.resource, name=None)\n",
            "  133522214166864: TensorSpec(shape=(), dtype=tf.resource, name=None)\n",
            "  133522214171088: TensorSpec(shape=(), dtype=tf.resource, name=None)\n",
            "  133522214171280: TensorSpec(shape=(), dtype=tf.resource, name=None)\n",
            "  133522214689424: TensorSpec(shape=(), dtype=tf.resource, name=None)\n",
            "  133522214687888: TensorSpec(shape=(), dtype=tf.resource, name=None)\n",
            "  133522214172240: TensorSpec(shape=(), dtype=tf.resource, name=None)\n",
            "  133522214167632: TensorSpec(shape=(), dtype=tf.resource, name=None)\n",
            "  133522214685584: TensorSpec(shape=(), dtype=tf.resource, name=None)\n",
            "  133522214689808: TensorSpec(shape=(), dtype=tf.resource, name=None)\n",
            "  133522214690000: TensorSpec(shape=(), dtype=tf.resource, name=None)\n",
            "  133522214682704: TensorSpec(shape=(), dtype=tf.resource, name=None)\n",
            "  133522214688272: TensorSpec(shape=(), dtype=tf.resource, name=None)\n",
            "  133522214688464: TensorSpec(shape=(), dtype=tf.resource, name=None)\n",
            "  133522214168400: TensorSpec(shape=(), dtype=tf.resource, name=None)\n",
            "  133522214172624: TensorSpec(shape=(), dtype=tf.resource, name=None)\n",
            "  133522214172816: TensorSpec(shape=(), dtype=tf.resource, name=None)\n",
            "  133522214163792: TensorSpec(shape=(), dtype=tf.resource, name=None)\n",
            "  133522214168016: TensorSpec(shape=(), dtype=tf.resource, name=None)\n",
            "  133522214168208: TensorSpec(shape=(), dtype=tf.resource, name=None)\n",
            "  133522214697104: TensorSpec(shape=(), dtype=tf.resource, name=None)\n",
            "  133522214693264: TensorSpec(shape=(), dtype=tf.resource, name=None)\n",
            "  133522214697488: TensorSpec(shape=(), dtype=tf.resource, name=None)\n",
            "  133522214697680: TensorSpec(shape=(), dtype=tf.resource, name=None)\n",
            "  133522214698640: TensorSpec(shape=(), dtype=tf.resource, name=None)\n",
            "  133522214697872: TensorSpec(shape=(), dtype=tf.resource, name=None)\n",
            "  133522214696336: TensorSpec(shape=(), dtype=tf.resource, name=None)\n",
            "  133522214698256: TensorSpec(shape=(), dtype=tf.resource, name=None)\n",
            "  133522213093648: TensorSpec(shape=(), dtype=tf.resource, name=None)\n",
            "  133522214692496: TensorSpec(shape=(), dtype=tf.resource, name=None)\n",
            "  133522213093840: TensorSpec(shape=(), dtype=tf.resource, name=None)\n",
            "  133522213094992: TensorSpec(shape=(), dtype=tf.resource, name=None)\n",
            "  133522213095184: TensorSpec(shape=(), dtype=tf.resource, name=None)\n",
            "  133522214688656: TensorSpec(shape=(), dtype=tf.resource, name=None)\n",
            "  133522214692880: TensorSpec(shape=(), dtype=tf.resource, name=None)\n",
            "  133522214693072: TensorSpec(shape=(), dtype=tf.resource, name=None)\n",
            "  133522213096144: TensorSpec(shape=(), dtype=tf.resource, name=None)\n",
            "  133522214694032: TensorSpec(shape=(), dtype=tf.resource, name=None)\n",
            "  133522213094224: TensorSpec(shape=(), dtype=tf.resource, name=None)\n",
            "  133522213096528: TensorSpec(shape=(), dtype=tf.resource, name=None)\n",
            "  133522213096720: TensorSpec(shape=(), dtype=tf.resource, name=None)\n",
            "  133522214690192: TensorSpec(shape=(), dtype=tf.resource, name=None)\n",
            "  133522214694416: TensorSpec(shape=(), dtype=tf.resource, name=None)\n",
            "  133522214694608: TensorSpec(shape=(), dtype=tf.resource, name=None)\n",
            "  133522213099216: TensorSpec(shape=(), dtype=tf.resource, name=None)\n",
            "  133522213097680: TensorSpec(shape=(), dtype=tf.resource, name=None)\n",
            "  133522214695568: TensorSpec(shape=(), dtype=tf.resource, name=None)\n",
            "  133522214690960: TensorSpec(shape=(), dtype=tf.resource, name=None)\n",
            "  133522213095376: TensorSpec(shape=(), dtype=tf.resource, name=None)\n",
            "  133522213099600: TensorSpec(shape=(), dtype=tf.resource, name=None)\n",
            "  133522213099792: TensorSpec(shape=(), dtype=tf.resource, name=None)\n",
            "  133522213094416: TensorSpec(shape=(), dtype=tf.resource, name=None)\n",
            "  133522213098064: TensorSpec(shape=(), dtype=tf.resource, name=None)\n",
            "  133522213098256: TensorSpec(shape=(), dtype=tf.resource, name=None)\n",
            "  133522214691728: TensorSpec(shape=(), dtype=tf.resource, name=None)\n",
            "  133522214695952: TensorSpec(shape=(), dtype=tf.resource, name=None)\n",
            "  133522214696144: TensorSpec(shape=(), dtype=tf.resource, name=None)\n",
            "  133522214687120: TensorSpec(shape=(), dtype=tf.resource, name=None)\n",
            "  133522214691344: TensorSpec(shape=(), dtype=tf.resource, name=None)\n",
            "  133522214691536: TensorSpec(shape=(), dtype=tf.resource, name=None)\n",
            "  133522213103824: TensorSpec(shape=(), dtype=tf.resource, name=None)\n",
            "  133522213099984: TensorSpec(shape=(), dtype=tf.resource, name=None)\n",
            "  133522213104208: TensorSpec(shape=(), dtype=tf.resource, name=None)\n",
            "  133522213104400: TensorSpec(shape=(), dtype=tf.resource, name=None)\n",
            "  133522213105360: TensorSpec(shape=(), dtype=tf.resource, name=None)\n",
            "  133522213101520: TensorSpec(shape=(), dtype=tf.resource, name=None)\n",
            "  133522213105744: TensorSpec(shape=(), dtype=tf.resource, name=None)\n",
            "  133522213105936: TensorSpec(shape=(), dtype=tf.resource, name=None)\n",
            "  133522213106896: TensorSpec(shape=(), dtype=tf.resource, name=None)\n",
            "  133522213100752: TensorSpec(shape=(), dtype=tf.resource, name=None)\n",
            "  133522213103056: TensorSpec(shape=(), dtype=tf.resource, name=None)\n",
            "  133522213107280: TensorSpec(shape=(), dtype=tf.resource, name=None)\n",
            "  133522213107472: TensorSpec(shape=(), dtype=tf.resource, name=None)\n",
            "  133522213096912: TensorSpec(shape=(), dtype=tf.resource, name=None)\n",
            "  133522213101136: TensorSpec(shape=(), dtype=tf.resource, name=None)\n",
            "  133522213101328: TensorSpec(shape=(), dtype=tf.resource, name=None)\n",
            "  133522213108432: TensorSpec(shape=(), dtype=tf.resource, name=None)\n",
            "  133522213102288: TensorSpec(shape=(), dtype=tf.resource, name=None)\n",
            "  133522213104592: TensorSpec(shape=(), dtype=tf.resource, name=None)\n",
            "  133522213108816: TensorSpec(shape=(), dtype=tf.resource, name=None)\n",
            "  133522213109008: TensorSpec(shape=(), dtype=tf.resource, name=None)\n",
            "  133522213098448: TensorSpec(shape=(), dtype=tf.resource, name=None)\n",
            "  133522213102672: TensorSpec(shape=(), dtype=tf.resource, name=None)\n",
            "  133522213102864: TensorSpec(shape=(), dtype=tf.resource, name=None)\n",
            "  133522213558544: TensorSpec(shape=(), dtype=tf.resource, name=None)\n",
            "  133522213554704: TensorSpec(shape=(), dtype=tf.resource, name=None)\n",
            "  133522213558928: TensorSpec(shape=(), dtype=tf.resource, name=None)\n",
            "  133522213559120: TensorSpec(shape=(), dtype=tf.resource, name=None)\n",
            "  133522213560080: TensorSpec(shape=(), dtype=tf.resource, name=None)\n",
            "  133522213553936: TensorSpec(shape=(), dtype=tf.resource, name=None)\n",
            "  133522213556240: TensorSpec(shape=(), dtype=tf.resource, name=None)\n",
            "  133522213560464: TensorSpec(shape=(), dtype=tf.resource, name=None)\n",
            "  133522213560656: TensorSpec(shape=(), dtype=tf.resource, name=None)\n",
            "  133522213553168: TensorSpec(shape=(), dtype=tf.resource, name=None)\n",
            "  133522213554320: TensorSpec(shape=(), dtype=tf.resource, name=None)\n",
            "  133522213554512: TensorSpec(shape=(), dtype=tf.resource, name=None)\n",
            "  133522213563152: TensorSpec(shape=(), dtype=tf.resource, name=None)\n",
            "  133522213561616: TensorSpec(shape=(), dtype=tf.resource, name=None)\n",
            "  133522213557008: TensorSpec(shape=(), dtype=tf.resource, name=None)\n",
            "  133522213555472: TensorSpec(shape=(), dtype=tf.resource, name=None)\n",
            "  133522213564688: TensorSpec(shape=(), dtype=tf.resource, name=None)\n",
            "  133522213559312: TensorSpec(shape=(), dtype=tf.resource, name=None)\n",
            "  133522213563536: TensorSpec(shape=(), dtype=tf.resource, name=None)\n",
            "  133522213563728: TensorSpec(shape=(), dtype=tf.resource, name=None)\n",
            "  133522213557776: TensorSpec(shape=(), dtype=tf.resource, name=None)\n",
            "  133522213562000: TensorSpec(shape=(), dtype=tf.resource, name=None)\n",
            "  133522213562192: TensorSpec(shape=(), dtype=tf.resource, name=None)\n",
            "  133522213552208: TensorSpec(shape=(), dtype=tf.resource, name=None)\n",
            "  133522213557392: TensorSpec(shape=(), dtype=tf.resource, name=None)\n",
            "  133522213557584: TensorSpec(shape=(), dtype=tf.resource, name=None)\n",
            "  133522213552400: TensorSpec(shape=(), dtype=tf.resource, name=None)\n",
            "  133522213555856: TensorSpec(shape=(), dtype=tf.resource, name=None)\n",
            "  133522213556048: TensorSpec(shape=(), dtype=tf.resource, name=None)\n",
            "  133522213106512: TensorSpec(shape=(), dtype=tf.resource, name=None)\n",
            "  133522213560848: TensorSpec(shape=(), dtype=tf.resource, name=None)\n",
            "  133522213565072: TensorSpec(shape=(), dtype=tf.resource, name=None)\n",
            "  133522213565264: TensorSpec(shape=(), dtype=tf.resource, name=None)\n",
            "  133522213106128: TensorSpec(shape=(), dtype=tf.resource, name=None)\n",
            "  133522213552784: TensorSpec(shape=(), dtype=tf.resource, name=None)\n",
            "  133522213109584: TensorSpec(shape=(), dtype=tf.resource, name=None)\n",
            "  133522212015952: TensorSpec(shape=(), dtype=tf.resource, name=None)\n",
            "  133522212012496: TensorSpec(shape=(), dtype=tf.resource, name=None)\n",
            "  133522212016336: TensorSpec(shape=(), dtype=tf.resource, name=None)\n",
            "  133522212016528: TensorSpec(shape=(), dtype=tf.resource, name=None)\n",
            "  133522212017488: TensorSpec(shape=(), dtype=tf.resource, name=None)\n",
            "  133522213567760: TensorSpec(shape=(), dtype=tf.resource, name=None)\n",
            "  133522212012304: TensorSpec(shape=(), dtype=tf.resource, name=None)\n",
            "  133522212017872: TensorSpec(shape=(), dtype=tf.resource, name=None)\n",
            "  133522212018064: TensorSpec(shape=(), dtype=tf.resource, name=None)\n",
            "  133522213566992: TensorSpec(shape=(), dtype=tf.resource, name=None)\n",
            "  133522213568336: TensorSpec(shape=(), dtype=tf.resource, name=None)\n",
            "  133522213568144: TensorSpec(shape=(), dtype=tf.resource, name=None)\n",
            "  133522212020560: TensorSpec(shape=(), dtype=tf.resource, name=None)\n",
            "  133522212019024: TensorSpec(shape=(), dtype=tf.resource, name=None)\n",
            "  133522212014416: TensorSpec(shape=(), dtype=tf.resource, name=None)\n",
            "  133522213565456: TensorSpec(shape=(), dtype=tf.resource, name=None)\n",
            "  133522212022096: TensorSpec(shape=(), dtype=tf.resource, name=None)\n",
            "  133522212016720: TensorSpec(shape=(), dtype=tf.resource, name=None)\n",
            "  133522212020944: TensorSpec(shape=(), dtype=tf.resource, name=None)\n",
            "  133522212021136: TensorSpec(shape=(), dtype=tf.resource, name=None)\n",
            "  133522212015184: TensorSpec(shape=(), dtype=tf.resource, name=None)\n",
            "  133522212019408: TensorSpec(shape=(), dtype=tf.resource, name=None)\n",
            "  133522212019600: TensorSpec(shape=(), dtype=tf.resource, name=None)\n",
            "  133522212012880: TensorSpec(shape=(), dtype=tf.resource, name=None)\n",
            "  133522212014800: TensorSpec(shape=(), dtype=tf.resource, name=None)\n",
            "  133522212014992: TensorSpec(shape=(), dtype=tf.resource, name=None)\n",
            "  133522212012112: TensorSpec(shape=(), dtype=tf.resource, name=None)\n",
            "  133522212013264: TensorSpec(shape=(), dtype=tf.resource, name=None)\n",
            "  133522212013072: TensorSpec(shape=(), dtype=tf.resource, name=None)\n",
            "  133522213566224: TensorSpec(shape=(), dtype=tf.resource, name=None)\n",
            "  133522212018256: TensorSpec(shape=(), dtype=tf.resource, name=None)\n",
            "  133522212022480: TensorSpec(shape=(), dtype=tf.resource, name=None)\n",
            "  133522212022672: TensorSpec(shape=(), dtype=tf.resource, name=None)\n",
            "  133522213562384: TensorSpec(shape=(), dtype=tf.resource, name=None)\n",
            "  133522213566608: TensorSpec(shape=(), dtype=tf.resource, name=None)\n",
            "  133522213566800: TensorSpec(shape=(), dtype=tf.resource, name=None)\n",
            "  133522212024400: TensorSpec(shape=(), dtype=tf.resource, name=None)\n",
            "  133522212024976: TensorSpec(shape=(), dtype=tf.resource, name=None)\n",
            "  133522212024016: TensorSpec(shape=(), dtype=tf.resource, name=None)\n",
            "  133522212022864: TensorSpec(shape=(), dtype=tf.resource, name=None)\n",
            "  133522212025360: TensorSpec(shape=(), dtype=tf.resource, name=None)\n",
            "  133522212026896: TensorSpec(shape=(), dtype=tf.resource, name=None)\n",
            "  133522212025744: TensorSpec(shape=(), dtype=tf.resource, name=None)\n",
            "  133522212027280: TensorSpec(shape=(), dtype=tf.resource, name=None)\n",
            "  133522212023824: TensorSpec(shape=(), dtype=tf.resource, name=None)\n",
            "  133522212026512: TensorSpec(shape=(), dtype=tf.resource, name=None)\n",
            "  133522212027664: TensorSpec(shape=(), dtype=tf.resource, name=None)\n",
            "  133522212027088: TensorSpec(shape=(), dtype=tf.resource, name=None)\n",
            "  133522212946768: TensorSpec(shape=(), dtype=tf.resource, name=None)\n",
            "  133522212947152: TensorSpec(shape=(), dtype=tf.resource, name=None)\n",
            "  133522212026320: TensorSpec(shape=(), dtype=tf.resource, name=None)\n",
            "  133522212946000: TensorSpec(shape=(), dtype=tf.resource, name=None)\n",
            "  133522212947536: TensorSpec(shape=(), dtype=tf.resource, name=None)\n",
            "  133522212949072: TensorSpec(shape=(), dtype=tf.resource, name=None)\n"
          ]
        }
      ],
      "source": [
        "model.save('/content/model_InceptionV3.keras')\n",
        "model.export('/content/models/inceptionV3_model')"
      ]
    },
    {
      "cell_type": "code",
      "execution_count": 4,
      "metadata": {
        "id": "z2oziusVQzxM",
        "colab": {
          "base_uri": "https://localhost:8080/",
          "height": 176
        },
        "outputId": "1b3ae5f4-5576-4b17-83ec-1370540f816b"
      },
      "outputs": [
        {
          "output_type": "error",
          "ename": "NameError",
          "evalue": "name 'model' is not defined",
          "traceback": [
            "\u001b[0;31m---------------------------------------------------------------------------\u001b[0m",
            "\u001b[0;31mNameError\u001b[0m                                 Traceback (most recent call last)",
            "\u001b[0;32m<ipython-input-4-fa784433104c>\u001b[0m in \u001b[0;36m<cell line: 0>\u001b[0;34m()\u001b[0m\n\u001b[0;32m----> 1\u001b[0;31m \u001b[0mscore\u001b[0m\u001b[0;34m,\u001b[0m \u001b[0macc\u001b[0m\u001b[0;34m=\u001b[0m \u001b[0mmodel\u001b[0m\u001b[0;34m.\u001b[0m\u001b[0mevaluate\u001b[0m\u001b[0;34m(\u001b[0m\u001b[0mtest_ds\u001b[0m\u001b[0;34m)\u001b[0m\u001b[0;34m\u001b[0m\u001b[0;34m\u001b[0m\u001b[0m\n\u001b[0m\u001b[1;32m      2\u001b[0m \u001b[0mprint\u001b[0m\u001b[0;34m(\u001b[0m\u001b[0;34m'Val Loss ='\u001b[0m\u001b[0;34m,\u001b[0m \u001b[0mscore\u001b[0m\u001b[0;34m)\u001b[0m\u001b[0;34m\u001b[0m\u001b[0;34m\u001b[0m\u001b[0m\n\u001b[1;32m      3\u001b[0m \u001b[0mprint\u001b[0m\u001b[0;34m(\u001b[0m\u001b[0;34m'Val Accuracy ='\u001b[0m\u001b[0;34m,\u001b[0m \u001b[0macc\u001b[0m\u001b[0;34m)\u001b[0m\u001b[0;34m\u001b[0m\u001b[0;34m\u001b[0m\u001b[0m\n",
            "\u001b[0;31mNameError\u001b[0m: name 'model' is not defined"
          ]
        }
      ],
      "source": [
        "score, acc= model.evaluate(test_ds)\n",
        "print('Val Loss =', score)\n",
        "print('Val Accuracy =', acc)"
      ]
    },
    {
      "cell_type": "code",
      "source": [
        "# Unfreeze the last 2 layers of InceptionV3 base model\n",
        "base_model = model.layers[0]  # This is your InceptionV3 model\n",
        "\n",
        "# Set all layers to non-trainable first\n",
        "for layer in base_model.layers:\n",
        "    layer.trainable = False\n",
        "\n",
        "# Then unfreeze the last 3 layers\n",
        "for layer in base_model.layers[-2:]:\n",
        "    layer.trainable = True"
      ],
      "metadata": {
        "id": "9HyuDom82q0j"
      },
      "execution_count": 38,
      "outputs": []
    },
    {
      "cell_type": "code",
      "source": [
        "from tensorflow.keras.callbacks import ModelCheckpoint, EarlyStopping\n",
        "\n",
        "# Model Checkpoint - save only the best model\n",
        "checkpoint_cb = ModelCheckpoint(\n",
        "    \"model_InceptionV3.keras\",  # Updated filename\n",
        "    save_best_only=True\n",
        ")\n",
        "\n",
        "# Early Stopping - stop if no improvement for 10 epochs\n",
        "early_stopping_cb = EarlyStopping(\n",
        "    patience=10,\n",
        "    restore_best_weights=True\n",
        ")\n",
        "\n",
        "# Compile the model\n",
        "model.compile(\n",
        "    optimizer=tf.keras.optimizers.Adam(1e-5),\n",
        "    loss='categorical_crossentropy',\n",
        "    metrics=['accuracy']\n",
        ")"
      ],
      "metadata": {
        "id": "paLsmoL42yQy"
      },
      "execution_count": 39,
      "outputs": []
    },
    {
      "cell_type": "code",
      "source": [
        "history = model.fit(\n",
        "    train_ds,\n",
        "    epochs=10,\n",
        "    validation_data=val_ds,\n",
        "    callbacks=[checkpoint_cb, early_stopping_cb]\n",
        ")"
      ],
      "metadata": {
        "colab": {
          "base_uri": "https://localhost:8080/"
        },
        "id": "rY93M_9U23Yn",
        "outputId": "383af92e-b38d-4d4d-dbf6-4de82f9d2c75"
      },
      "execution_count": 41,
      "outputs": [
        {
          "output_type": "stream",
          "name": "stdout",
          "text": [
            "Epoch 1/10\n",
            "\u001b[1m750/750\u001b[0m \u001b[32m━━━━━━━━━━━━━━━━━━━━\u001b[0m\u001b[37m\u001b[0m \u001b[1m51s\u001b[0m 54ms/step - accuracy: 0.9488 - loss: 0.1682 - val_accuracy: 0.8455 - val_loss: 0.4504\n",
            "Epoch 2/10\n",
            "\u001b[1m750/750\u001b[0m \u001b[32m━━━━━━━━━━━━━━━━━━━━\u001b[0m\u001b[37m\u001b[0m \u001b[1m71s\u001b[0m 45ms/step - accuracy: 0.9526 - loss: 0.1565 - val_accuracy: 0.8485 - val_loss: 0.4669\n",
            "Epoch 3/10\n",
            "\u001b[1m750/750\u001b[0m \u001b[32m━━━━━━━━━━━━━━━━━━━━\u001b[0m\u001b[37m\u001b[0m \u001b[1m42s\u001b[0m 46ms/step - accuracy: 0.9527 - loss: 0.1555 - val_accuracy: 0.8525 - val_loss: 0.4345\n",
            "Epoch 4/10\n",
            "\u001b[1m750/750\u001b[0m \u001b[32m━━━━━━━━━━━━━━━━━━━━\u001b[0m\u001b[37m\u001b[0m \u001b[1m33s\u001b[0m 44ms/step - accuracy: 0.9552 - loss: 0.1499 - val_accuracy: 0.8475 - val_loss: 0.4476\n",
            "Epoch 5/10\n",
            "\u001b[1m750/750\u001b[0m \u001b[32m━━━━━━━━━━━━━━━━━━━━\u001b[0m\u001b[37m\u001b[0m \u001b[1m33s\u001b[0m 44ms/step - accuracy: 0.9562 - loss: 0.1433 - val_accuracy: 0.8500 - val_loss: 0.4529\n",
            "Epoch 6/10\n",
            "\u001b[1m750/750\u001b[0m \u001b[32m━━━━━━━━━━━━━━━━━━━━\u001b[0m\u001b[37m\u001b[0m \u001b[1m41s\u001b[0m 44ms/step - accuracy: 0.9582 - loss: 0.1381 - val_accuracy: 0.8525 - val_loss: 0.4384\n",
            "Epoch 7/10\n",
            "\u001b[1m750/750\u001b[0m \u001b[32m━━━━━━━━━━━━━━━━━━━━\u001b[0m\u001b[37m\u001b[0m \u001b[1m40s\u001b[0m 43ms/step - accuracy: 0.9578 - loss: 0.1364 - val_accuracy: 0.8520 - val_loss: 0.4610\n",
            "Epoch 8/10\n",
            "\u001b[1m750/750\u001b[0m \u001b[32m━━━━━━━━━━━━━━━━━━━━\u001b[0m\u001b[37m\u001b[0m \u001b[1m32s\u001b[0m 42ms/step - accuracy: 0.9607 - loss: 0.1264 - val_accuracy: 0.8570 - val_loss: 0.4453\n",
            "Epoch 9/10\n",
            "\u001b[1m750/750\u001b[0m \u001b[32m━━━━━━━━━━━━━━━━━━━━\u001b[0m\u001b[37m\u001b[0m \u001b[1m33s\u001b[0m 44ms/step - accuracy: 0.9664 - loss: 0.1167 - val_accuracy: 0.8605 - val_loss: 0.4486\n",
            "Epoch 10/10\n",
            "\u001b[1m750/750\u001b[0m \u001b[32m━━━━━━━━━━━━━━━━━━━━\u001b[0m\u001b[37m\u001b[0m \u001b[1m43s\u001b[0m 46ms/step - accuracy: 0.9657 - loss: 0.1173 - val_accuracy: 0.8540 - val_loss: 0.4568\n"
          ]
        }
      ]
    },
    {
      "cell_type": "code",
      "execution_count": 2,
      "metadata": {
        "id": "MXOspV2RQzxO",
        "colab": {
          "base_uri": "https://localhost:8080/",
          "height": 141
        },
        "outputId": "0ffc6429-a814-4907-c8f2-4f282a6474be"
      },
      "outputs": [
        {
          "output_type": "error",
          "ename": "NameError",
          "evalue": "name 'pd' is not defined",
          "traceback": [
            "\u001b[0;31m---------------------------------------------------------------------------\u001b[0m",
            "\u001b[0;31mNameError\u001b[0m                                 Traceback (most recent call last)",
            "\u001b[0;32m<ipython-input-2-b0d35556b6c2>\u001b[0m in \u001b[0;36m<cell line: 0>\u001b[0;34m()\u001b[0m\n\u001b[0;32m----> 1\u001b[0;31m \u001b[0mhist_\u001b[0m\u001b[0;34m=\u001b[0m\u001b[0mpd\u001b[0m\u001b[0;34m.\u001b[0m\u001b[0mDataFrame\u001b[0m\u001b[0;34m(\u001b[0m\u001b[0mhistory\u001b[0m\u001b[0;34m.\u001b[0m\u001b[0mhistory\u001b[0m\u001b[0;34m)\u001b[0m\u001b[0;34m\u001b[0m\u001b[0;34m\u001b[0m\u001b[0m\n\u001b[0m",
            "\u001b[0;31mNameError\u001b[0m: name 'pd' is not defined"
          ]
        }
      ],
      "source": [
        "hist_=pd.DataFrame(history.history)"
      ]
    },
    {
      "cell_type": "code",
      "execution_count": 13,
      "metadata": {
        "colab": {
          "base_uri": "https://localhost:8080/",
          "height": 861
        },
        "id": "sOTXUrMxQzxQ",
        "outputId": "9264f77d-eb7c-4d02-a9ab-6c8279ac6ed7"
      },
      "outputs": [
        {
          "output_type": "display_data",
          "data": {
            "text/plain": [
              "<Figure size 1500x1000 with 2 Axes>"
            ],
            "image/png": "[encoded data removed]"
          },
          "metadata": {}
        }
      ],
      "source": [
        "plt.figure(figsize=(15,10))\n",
        "plt.subplot(1,2,1)\n",
        "plt.plot(hist_['loss'],label='Train_Loss')\n",
        "plt.plot(hist_['val_loss'],label='Validation_Loss')\n",
        "plt.title('Train_Loss & Validation_Loss',fontsize=20)\n",
        "plt.legend()\n",
        "plt.subplot(1,2,2)\n",
        "plt.plot(hist_['accuracy'],label='Train_Accuracy')\n",
        "plt.plot(hist_['val_accuracy'],label='Validation_Accuracy')\n",
        "plt.title('Train_Accuracy & Validation_Accuracy',fontsize=20)\n",
        "plt.legend()\n",
        "plt.show()"
      ]
    },
    {
      "cell_type": "code",
      "execution_count": 32,
      "metadata": {
        "colab": {
          "base_uri": "https://localhost:8080/"
        },
        "id": "tYvMVpvJQzxS",
        "outputId": "5b4a7653-0764-4dab-c283-1d3573b8662e"
      },
      "outputs": [
        {
          "output_type": "stream",
          "name": "stdout",
          "text": [
            "\u001b[1m125/125\u001b[0m \u001b[32m━━━━━━━━━━━━━━━━━━━━\u001b[0m\u001b[37m\u001b[0m \u001b[1m5s\u001b[0m 42ms/step\n"
          ]
        }
      ],
      "source": [
        "import numpy as np\n",
        "import pandas as pd\n",
        "\n",
        "# Convert test labels (one-hot) to class indices\n",
        "y_test_labels = []\n",
        "for batch in test_ds:\n",
        "    images, labels = batch\n",
        "    y_test_labels.append(labels.numpy())\n",
        "\n",
        "y_test = np.concatenate(y_test_labels, axis=0)\n",
        "y_test = np.argmax(y_test, axis=1)  # Convert one-hot to class index\n",
        "\n",
        "# Predict using model\n",
        "predictions = model.predict(test_ds)\n",
        "y_pred = np.argmax(predictions, axis=1)  # Class index\n",
        "\n",
        "# Create a DataFrame with Actual vs Prediction\n",
        "df = pd.DataFrame({'Actual': y_test, 'Prediction': y_pred})\n"
      ]
    },
    {
      "cell_type": "code",
      "execution_count": 35,
      "metadata": {
        "colab": {
          "base_uri": "https://localhost:8080/",
          "height": 633
        },
        "id": "n6S-hs0DQzxU",
        "outputId": "b3ebf83a-875f-4448-ee7a-1c929e88ffaf"
      },
      "outputs": [
        {
          "output_type": "display_data",
          "data": {
            "text/plain": [
              "<Figure size 800x600 with 1 Axes>"
            ],
            "image/png": "[encoded data removed]"
          },
          "metadata": {}
        },
        {
          "output_type": "execute_result",
          "data": {
            "text/plain": [
              "array([[427,   6,  25,  42],\n",
              "       [  8, 491,   0,   1],\n",
              "       [ 23,   3, 416,  58],\n",
              "       [ 37,  12,  58, 393]])"
            ]
          },
          "metadata": {},
          "execution_count": 35
        }
      ],
      "source": [
        "import seaborn as sns\n",
        "import matplotlib.pyplot as plt\n",
        "from sklearn.metrics import confusion_matrix\n",
        "\n",
        "# Ensure your predicted and true labels are available\n",
        "# y_test and y_pred should be 1D arrays of class indices\n",
        "\n",
        "# Define class labels (update to match your actual class names)\n",
        "class_names = ['MildDemented', 'ModerateDemented', 'NonDemented', 'VeryMildDemented']\n",
        "\n",
        "# Compute the confusion matrix\n",
        "CM = confusion_matrix(y_test, y_pred)\n",
        "\n",
        "# Normalize the confusion matrix\n",
        "CM_percent = CM.astype('float') / CM.sum(axis=1)[:, np.newaxis]\n",
        "\n",
        "# Plot the heatmap\n",
        "plt.figure(figsize=(8, 6))\n",
        "sns.heatmap(CM_percent,\n",
        "            fmt='.2f',\n",
        "            annot=True,\n",
        "            cmap='Blues',\n",
        "            xticklabels=class_names,\n",
        "            yticklabels=class_names,\n",
        "            cbar=False)\n",
        "\n",
        "plt.xlabel('Predicted Label')\n",
        "plt.ylabel('True Label')\n",
        "plt.title('Normalized Confusion Matrix')\n",
        "plt.show()\n",
        "\n",
        "# Optionally print the raw CM\n",
        "CM\n"
      ]
    },
    {
      "cell_type": "code",
      "execution_count": 37,
      "metadata": {
        "id": "ZY7brHMYQzxW",
        "colab": {
          "base_uri": "https://localhost:8080/"
        },
        "outputId": "333d5f5c-f3e0-46ae-a516-2e96e02a9c1c"
      },
      "outputs": [
        {
          "output_type": "stream",
          "name": "stdout",
          "text": [
            "Classification Report is :                    precision    recall  f1-score   support\n",
            "\n",
            "    MildDemented       0.86      0.85      0.86       500\n",
            "ModerateDemented       0.96      0.98      0.97       500\n",
            "     NonDemented       0.83      0.83      0.83       500\n",
            "VeryMildDemented       0.80      0.79      0.79       500\n",
            "\n",
            "        accuracy                           0.86      2000\n",
            "       macro avg       0.86      0.86      0.86      2000\n",
            "    weighted avg       0.86      0.86      0.86      2000\n",
            "\n"
          ]
        }
      ],
      "source": [
        "ClassificationReport = classification_report(y_test,y_pred,target_names=class_names)\n",
        "print('Classification Report is : ', ClassificationReport)"
      ]
    }
  ],
  "metadata": {
    "accelerator": "GPU",
    "colab": {
      "gpuType": "T4",
      "provenance": [],
      "include_colab_link": true
    },
    "kernelspec": {
      "display_name": "Python 3",
      "name": "python3"
    },
    "language_info": {
      "codemirror_mode": {
        "name": "ipython",
        "version": 3
      },
      "file_extension": ".py",
      "mimetype": "text/x-python",
      "name": "python",
      "nbconvert_exporter": "python",
      "pygments_lexer": "ipython3",
      "version": "3.11.3"
    }
  },
  "nbformat": 4,
  "nbformat_minor": 0
}