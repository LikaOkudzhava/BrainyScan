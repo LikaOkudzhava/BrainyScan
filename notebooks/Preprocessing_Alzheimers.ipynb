{
 "cells": [
  {
   "cell_type": "code",
   "execution_count": 3,
   "metadata": {},
   "outputs": [],
   "source": [
    "import kagglehub\n",
    "import numpy as np \n",
    "import cv2\n",
    "import os\n",
    "import imutils\n",
    "# from tqdm import tqdm"
   ]
  },
  {
   "cell_type": "code",
   "execution_count": 8,
   "metadata": {},
   "outputs": [],
   "source": [
    "data_set = '../data/AlzheimersData_Split'"
   ]
  },
  {
   "cell_type": "code",
   "execution_count": 9,
   "metadata": {},
   "outputs": [],
   "source": [
    "def crop_img(img):\n",
    "\t\"\"\"\n",
    "\tFinds the extreme points on the image and crops the rectangular out of them\n",
    "\t\"\"\"\n",
    "\tgray = cv2.cvtColor(img, cv2.COLOR_RGB2GRAY)\n",
    "\tgray = cv2.GaussianBlur(gray, (3, 3), 0)\n",
    "\n",
    "\t# threshold the image, then perform a series of erosions +\n",
    "\t# dilations to remove any small regions of noise\n",
    "\tthresh = cv2.threshold(gray, 45, 255, cv2.THRESH_BINARY)[1]\n",
    "\tthresh = cv2.erode(thresh, None, iterations=2)\n",
    "\tthresh = cv2.dilate(thresh, None, iterations=2)\n",
    "\n",
    "\t# find contours in thresholded image, then grab the largest one\n",
    "\tcnts = cv2.findContours(thresh.copy(), cv2.RETR_EXTERNAL, cv2.CHAIN_APPROX_SIMPLE)\n",
    "\tcnts = imutils.grab_contours(cnts)\n",
    "\tc = max(cnts, key=cv2.contourArea)\n",
    "\n",
    "\t# find the extreme points\n",
    "\textLeft = tuple(c[c[:, :, 0].argmin()][0])\n",
    "\textRight = tuple(c[c[:, :, 0].argmax()][0])\n",
    "\textTop = tuple(c[c[:, :, 1].argmin()][0])\n",
    "\textBot = tuple(c[c[:, :, 1].argmax()][0])\n",
    "\tADD_PIXELS = 0\n",
    "\tnew_img = img[extTop[1]-ADD_PIXELS:extBot[1]+ADD_PIXELS, extLeft[0]-ADD_PIXELS:extRight[0]+ADD_PIXELS].copy()\n",
    "\t\n",
    "\treturn new_img"
   ]
  },
  {
   "cell_type": "code",
   "execution_count": 10,
   "metadata": {},
   "outputs": [],
   "source": [
    "training = os.path.join(data_set, 'train')\n",
    "testing = os.path.join(data_set, 'test')\n",
    "validate = os.path.join(data_set, 'val')\n",
    "\n",
    "training_dir = os.listdir(training)\n",
    "testing_dir = os.listdir(testing)\n",
    "validate_dir = os.listdir(validate)\n"
   ]
  },
  {
   "cell_type": "code",
   "execution_count": 11,
   "metadata": {},
   "outputs": [],
   "source": [
    "IMG_SIZE = 256"
   ]
  },
  {
   "cell_type": "code",
   "execution_count": 15,
   "metadata": {},
   "outputs": [],
   "source": [
    "def preprocess_and_write(src_dir: str, dest_dir: str, img_name: str):\n",
    "\timage = cv2.imread(os.path.join(src_dir, img_name))\n",
    "\t\n",
    "\tnew_img = crop_img(image)\n",
    "\t\n",
    "\tnew_img = cv2.resize(new_img,(IMG_SIZE,IMG_SIZE))\n",
    "\t\n",
    "\tif not os.path.exists(dest_dir):\n",
    "\t\tos.makedirs(dest_dir)\n",
    "\t\n",
    "\tcv2.imwrite(dest_dir + '/' + img_name, new_img)\n"
   ]
  },
  {
   "cell_type": "code",
   "execution_count": 18,
   "metadata": {},
   "outputs": [],
   "source": [
    "# preprocess_and_write('../data/AlzheimersData_Split/test/MildDemented', '../data/Preprocessed/test/MildDemented', '0a664a0f-4c61-4e1e-8a83-94b7250bfb92.jpg')\n",
    "dest_dir = '../data/Preprocessed'\n",
    "\n",
    "for split in ['train', 'test', 'val']:\n",
    "\tfor cl_name in ['MildDemented', 'ModerateDemented', 'NonDemented', 'VeryMildDemented']:\n",
    "\t\tsave_path = os.path.join(dest_dir, split, cl_name)\n",
    "\t\tsrc_path = os.path.join(data_set, split, cl_name)\n",
    "\n",
    "\t\timage_dir = os.listdir(src_path)\n",
    "\t\tfor img in image_dir:\n",
    "\t\t\tpreprocess_and_write(src_dir=src_path, dest_dir=save_path, img_name=img)\n"
   ]
  }
 ],
 "metadata": {
  "kernelspec": {
   "display_name": ".venv",
   "language": "python",
   "name": "python3"
  },
  "language_info": {
   "codemirror_mode": {
    "name": "ipython",
    "version": 3
   },
   "file_extension": ".py",
   "mimetype": "text/x-python",
   "name": "python",
   "nbconvert_exporter": "python",
   "pygments_lexer": "ipython3",
   "version": "3.12.9"
  },
  "orig_nbformat": 4
 },
 "nbformat": 4,
 "nbformat_minor": 2
}
