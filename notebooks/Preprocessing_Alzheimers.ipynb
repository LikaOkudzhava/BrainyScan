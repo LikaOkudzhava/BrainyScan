{
 "cells": [
  {
   "cell_type": "code",
   "execution_count": 2,
   "metadata": {},
   "outputs": [],
   "source": [
    "import kagglehub\n",
    "import numpy as np \n",
    "import cv2\n",
    "import os\n",
    "import imutils\n",
    "import tqdm\n",
    "from tqdm import tqdm"
   ]
  },
  {
   "cell_type": "code",
   "execution_count": 3,
   "metadata": {},
   "outputs": [],
   "source": [
    "data_set = '../data/AlzheimersData_Split'"
   ]
  },
  {
   "cell_type": "code",
   "execution_count": 4,
   "metadata": {},
   "outputs": [],
   "source": [
    "def crop_img(img):\n",
    "\t\"\"\"\n",
    "\tFinds the extreme points on the image and crops the rectangular out of them\n",
    "\t\"\"\"\n",
    "\tgray = cv2.cvtColor(img, cv2.COLOR_RGB2GRAY)\n",
    "\tgray = cv2.GaussianBlur(gray, (3, 3), 0)\n",
    "\n",
    "\t# threshold the image, then perform a series of erosions +\n",
    "\t# dilations to remove any small regions of noise\n",
    "\tthresh = cv2.threshold(gray, 45, 255, cv2.THRESH_BINARY)[1]\n",
    "\tthresh = cv2.erode(thresh, None, iterations=2)\n",
    "\tthresh = cv2.dilate(thresh, None, iterations=2)\n",
    "\n",
    "\t# find contours in thresholded image, then grab the largest one\n",
    "\tcnts = cv2.findContours(thresh.copy(), cv2.RETR_EXTERNAL, cv2.CHAIN_APPROX_SIMPLE)\n",
    "\tcnts = imutils.grab_contours(cnts)\n",
    "\tc = max(cnts, key=cv2.contourArea)\n",
    "\n",
    "\t# find the extreme points\n",
    "\textLeft = tuple(c[c[:, :, 0].argmin()][0])\n",
    "\textRight = tuple(c[c[:, :, 0].argmax()][0])\n",
    "\textTop = tuple(c[c[:, :, 1].argmin()][0])\n",
    "\textBot = tuple(c[c[:, :, 1].argmax()][0])\n",
    "\tADD_PIXELS = 0\n",
    "\tnew_img = img[extTop[1]-ADD_PIXELS:extBot[1]+ADD_PIXELS, extLeft[0]-ADD_PIXELS:extRight[0]+ADD_PIXELS].copy()\n",
    "\t\n",
    "\treturn new_img"
   ]
  },
  {
   "cell_type": "code",
   "execution_count": 5,
   "metadata": {},
   "outputs": [],
   "source": [
    "training = os.path.join(data_set, 'train')\n",
    "testing = os.path.join(data_set, 'test')\n",
    "validate = os.path.join(data_set, 'val')\n",
    "\n",
    "training_dir = os.listdir(training)\n",
    "testing_dir = os.listdir(testing)\n",
    "validate_dir = os.listdir(validate)\n"
   ]
  },
  {
   "cell_type": "code",
   "execution_count": 6,
   "metadata": {},
   "outputs": [],
   "source": [
    "IMG_SIZE = 256"
   ]
  },
  {
   "cell_type": "code",
   "execution_count": 7,
   "metadata": {},
   "outputs": [],
   "source": [
    "def preprocess_and_write(src_dir: str, dest_dir: str, img_name: str):\n",
    "\timage = cv2.imread(os.path.join(src_dir, img_name))\n",
    "\t\n",
    "\tnew_img = crop_img(image)\n",
    "\t\n",
    "\tnew_img = cv2.resize(new_img,(IMG_SIZE,IMG_SIZE))\n",
    "\t\n",
    "\tif not os.path.exists(dest_dir):\n",
    "\t\tos.makedirs(dest_dir)\n",
    "\t\n",
    "\tcv2.imwrite(dest_dir + '/' + img_name, new_img)\n"
   ]
  },
  {
   "cell_type": "code",
   "execution_count": 8,
   "metadata": {},
   "outputs": [
    {
     "name": "stderr",
     "output_type": "stream",
     "text": [
      "Copy train MildDemented images: 100%|██████████| 7000/7000 [00:08<00:00, 847.95it/s]\n",
      "Copy train ModerateDemented images: 100%|██████████| 7000/7000 [00:08<00:00, 848.11it/s]\n",
      "Copy train NonDemented images: 100%|██████████| 8960/8960 [00:10<00:00, 837.67it/s]\n",
      "Copy train VeryMildDemented images: 100%|██████████| 7839/7839 [00:09<00:00, 837.33it/s]\n",
      "Copy test MildDemented images: 100%|██████████| 1500/1500 [00:01<00:00, 824.42it/s]\n",
      "Copy test ModerateDemented images: 100%|██████████| 1500/1500 [00:01<00:00, 803.57it/s]\n",
      "Copy test NonDemented images: 100%|██████████| 1920/1920 [00:02<00:00, 798.67it/s]\n",
      "Copy test VeryMildDemented images: 100%|██████████| 1680/1680 [00:02<00:00, 744.29it/s]\n",
      "Copy val MildDemented images: 100%|██████████| 1500/1500 [00:01<00:00, 822.39it/s]\n",
      "Copy val ModerateDemented images: 100%|██████████| 1500/1500 [00:01<00:00, 823.11it/s]\n",
      "Copy val NonDemented images: 100%|██████████| 1920/1920 [00:02<00:00, 822.62it/s]\n",
      "Copy val VeryMildDemented images: 100%|██████████| 1681/1681 [00:02<00:00, 803.71it/s]\n"
     ]
    }
   ],
   "source": [
    "dest_dir = '../data/Preprocessed'\n",
    "\n",
    "for split in ['train', 'test', 'val']:\n",
    "\tfor cl_name in ['MildDemented', 'ModerateDemented', 'NonDemented', 'VeryMildDemented']:\n",
    "\t\tsave_path = os.path.join(dest_dir, split, cl_name)\n",
    "\t\tsrc_path = os.path.join(data_set, split, cl_name)\n",
    "\n",
    "\t\timage_dir = os.listdir(src_path)\n",
    "\t\tfor img in tqdm(image_dir, desc=f\"Copy {split} {cl_name} images\"):\n",
    "\t\t\tpreprocess_and_write(src_dir=src_path, dest_dir=save_path, img_name=img)\n"
   ]
  }
 ],
 "metadata": {
  "kernelspec": {
   "display_name": ".venv",
   "language": "python",
   "name": "python3"
  },
  "language_info": {
   "codemirror_mode": {
    "name": "ipython",
    "version": 3
   },
   "file_extension": ".py",
   "mimetype": "text/x-python",
   "name": "python",
   "nbconvert_exporter": "python",
   "pygments_lexer": "ipython3",
   "version": "3.12.9"
  },
  "orig_nbformat": 4
 },
 "nbformat": 4,
 "nbformat_minor": 2
}
